{
 "cells": [
  {
   "cell_type": "markdown",
   "id": "ed1d2710",
   "metadata": {},
   "source": [
    "### Regex - \n",
    "The Regex or Regular Expression is a way to define a pattern for searching or manipulating strings. We can use a regular expression to match, search, replace, and manipulate inside textual data.\n"
   ]
  },
  {
   "cell_type": "markdown",
   "id": "df9dc61b",
   "metadata": {},
   "source": [
    "* This module exports the following functions:\n",
    "        1. match     Match a regular expression pattern to the beginning of a string.\n",
    "        2. search    Search a string for the presence of a pattern.\n",
    "        3. sub       Substitute occurrences of a pattern found in a string.\n",
    "        4. subn      Same as sub, but also return the number of substitutions made.\n",
    "        5. split     Split a string by the occurrences of a pattern.\n",
    "        6. findall   Find all occurrences of a pattern in a string.\n",
    "        7. compile   Compile a pattern into a Pattern object.\n",
    "        \n",
    "        \n",
    "*           Searching and replacing text in files\n",
    "            Validating text input, such as password and email address\n",
    "            Rename a hundred files at a time. For example, You can change the extension of all files using a regex pattern\n",
    "            \n"
   ]
  },
  {
   "cell_type": "code",
   "execution_count": null,
   "id": "93c93b2e",
   "metadata": {},
   "outputs": [],
   "source": [
    "# \\w – matches a word character\n",
    "# \\d – matches digit character\n",
    "# \\s – matches whitespace character (space, tab, newline, etc.)\n"
   ]
  },
  {
   "cell_type": "markdown",
   "id": "05ae2b14",
   "metadata": {},
   "source": [
    "<!-- \n",
    "            \\w – matches a word character\n",
    "            \\d – matches digit character\n",
    "            \\s – matches whitespace character (space, tab, newline, etc.)\n",
    "            \\b – matches a zero-length character -->\n",
    "                                                                    "
   ]
  },
  {
   "cell_type": "markdown",
   "id": "c8406d7a",
   "metadata": {},
   "source": [
    "<h1>  Regex Metacharacters and Operators </h1>"
   ]
  },
  {
   "cell_type": "code",
   "execution_count": 2,
   "id": "e10c89b9",
   "metadata": {},
   "outputs": [],
   "source": [
    "import re"
   ]
  },
  {
   "cell_type": "code",
   "execution_count": 3,
   "id": "cee08654",
   "metadata": {},
   "outputs": [
    {
     "name": "stdout",
     "output_type": "stream",
     "text": [
      "Emma\n"
     ]
    }
   ],
   "source": [
    "\n",
    "\n",
    "target_string = \"Emma is a Python developer \\n Emma also knows ML and AI\"\n",
    "\n",
    "# caret (^) matches at the beginning of a string\n",
    "result = re.search(r\"^\\w{4}\", target_string)\n",
    "print(result.group())\n",
    "\n"
   ]
  },
  {
   "cell_type": "code",
   "execution_count": 11,
   "id": "e209d27c",
   "metadata": {},
   "outputs": [
    {
     "name": "stdout",
     "output_type": "stream",
     "text": [
      "AI\n"
     ]
    }
   ],
   "source": [
    "\n",
    "\n",
    "str1 = \"Emma is a Python developer \\nEmma also knows ML and AI\"\n",
    "# dollar sign($) to match at the end of the string\n",
    "result = re.search(r\"\\w{2}$\", str1)\n",
    "print(result.group())\n",
    "\n"
   ]
  },
  {
   "cell_type": "code",
   "execution_count": 17,
   "id": "bd34485f",
   "metadata": {},
   "outputs": [
    {
     "name": "stdout",
     "output_type": "stream",
     "text": [
      "['8', '23', '886', '4567', '78453']\n"
     ]
    }
   ],
   "source": [
    "\n",
    "\n",
    "str1 = \"Numbers are 8,23, 886, 4567, 78453\"\n",
    "# asterisk sign(*) to match 0 or more repetitions\n",
    "\n",
    "result = re.findall(r\"\\d\\d*\", str1)\n",
    "print(result)\n"
   ]
  },
  {
   "cell_type": "code",
   "execution_count": 18,
   "id": "db85c3ba",
   "metadata": {},
   "outputs": [
    {
     "name": "stdout",
     "output_type": "stream",
     "text": [
      "['d', 'e', 'e', 'e', 'k', 'd']\n"
     ]
    }
   ],
   "source": [
    "\n",
    "\n",
    "str1 = \"Emma is a Python developer. Emma also knows ML and AI.\"\n",
    "res = re.findall(r\"[edk]\", str1)\n",
    "print(res)\n",
    "\n"
   ]
  },
  {
   "cell_type": "code",
   "execution_count": 19,
   "id": "82495844",
   "metadata": {},
   "outputs": [
    {
     "name": "stdout",
     "output_type": "stream",
     "text": [
      "Match object:  <re.Match object; span=(0, 4), match='Emma'>\n",
      "Match value:  Emma\n"
     ]
    }
   ],
   "source": [
    "target_string = \"Emma is a basketball player who was born on June 17\"\n",
    "result = re.match(r\"\\w{4}\", target_string) \n",
    "\n",
    "# printing the Match object\n",
    "print(\"Match object: \", result)\n",
    "\n",
    "\n",
    "# Extract match value\n",
    "print(\"Match value: \", result.group())\n",
    "\n"
   ]
  },
  {
   "cell_type": "code",
   "execution_count": 20,
   "id": "454eb44a",
   "metadata": {},
   "outputs": [
    {
     "name": "stdout",
     "output_type": "stream",
     "text": [
      "the value of s               : Welcome to   Regex    Programming   using   Python\n",
      "Regex Split value of s        :['Welcome', 'to', '', '', 'Regex', '', '', '', 'Programming', '', '', 'using', '', '', 'Python']\n",
      "Regex Split value of s        :['Welcome', 'to', 'Regex', 'Programming', 'using', 'Python']\n"
     ]
    }
   ],
   "source": [
    "s = \"Welcome to   Regex    Programming   using   Python\"\n",
    "\n",
    "print(f'the value of s               : {s}')\n",
    "\n",
    "lstVal = re.split(r'\\s', s)\n",
    "#\\s only one space\n",
    "print(f'Regex Split value of s        :{lstVal}')\n",
    "\n",
    "lstVal2 = re.split(r'\\s+', s)\n",
    "#\\s+ space one or more\n",
    "print(f'Regex Split value of s        :{lstVal2}')"
   ]
  },
  {
   "cell_type": "code",
   "execution_count": 21,
   "id": "789357ba",
   "metadata": {},
   "outputs": [
    {
     "name": "stdout",
     "output_type": "stream",
     "text": [
      "the value of s               : Welcome to   Regex    Programming   using   Python\n",
      "Regex Split value of s        :['W', 'l', 'om', ' to   R', 'g', 'x    Progr', 'mming   using   Python']\n"
     ]
    }
   ],
   "source": [
    "s = \"Welcome to   Regex    Programming   using   Python\"\n",
    "\n",
    "print(f'the value of s               : {s}')\n",
    "\n",
    "lstVal = re.split(r'[a-f]', s)\n",
    "#[a-f] - from a to f ( a,b,c,d,e,f,)\n",
    "print(f'Regex Split value of s        :{lstVal}')"
   ]
  },
  {
   "cell_type": "code",
   "execution_count": 29,
   "id": "66d38386",
   "metadata": {},
   "outputs": [],
   "source": [
    "lstValues = re.split(r\"[a-f,l-n]\", s)\n",
    "# [a-f] -> a b c d e f\n",
    "# [l-m] -> l m n\n",
    "# al am an bl bm bn cl cm cn dl dm dn el em en fl fm fn"
   ]
  },
  {
   "cell_type": "code",
   "execution_count": 30,
   "id": "7a229f5a",
   "metadata": {},
   "outputs": [
    {
     "data": {
      "text/plain": [
       "['W',\n",
       " '',\n",
       " '',\n",
       " 'o',\n",
       " '',\n",
       " ' to   R',\n",
       " 'g',\n",
       " 'x    Progr',\n",
       " '',\n",
       " '',\n",
       " 'i',\n",
       " 'g   usi',\n",
       " 'g   Pytho',\n",
       " '']"
      ]
     },
     "execution_count": 30,
     "metadata": {},
     "output_type": "execute_result"
    }
   ],
   "source": [
    "lstValues\n",
    "# el am"
   ]
  },
  {
   "cell_type": "markdown",
   "id": "bda4700d",
   "metadata": {},
   "source": [
    "##  Extract the numbers"
   ]
  },
  {
   "cell_type": "code",
   "execution_count": 31,
   "id": "a1c64a76",
   "metadata": {},
   "outputs": [],
   "source": [
    "address = \"78 Hi 11    89 Main, 4th Cross, 123, Road, Marathalli, 5678 Bangalore, 560023 67893\""
   ]
  },
  {
   "cell_type": "code",
   "execution_count": 32,
   "id": "22bbe96a",
   "metadata": {},
   "outputs": [
    {
     "name": "stdout",
     "output_type": "stream",
     "text": [
      "sorting the only nums from address ['78', '11', '89', '4', '123', '5678', '560023', '67893']\n"
     ]
    }
   ],
   "source": [
    "add_nos = re.findall(r'\\d+', address)\n",
    "\n",
    "print(f'sorting the only nums from address {add_nos}')"
   ]
  },
  {
   "cell_type": "code",
   "execution_count": 33,
   "id": "0367792e",
   "metadata": {},
   "outputs": [
    {
     "name": "stdout",
     "output_type": "stream",
     "text": [
      "sorting the only nums from address ['560023']\n"
     ]
    }
   ],
   "source": [
    "## now i want nos with 6 digit only\n",
    "# REAL LIFE APPLICATION - EXTRACTING THE PIN CODES\n",
    "\n",
    "add_dig = re.findall(r'\\d{6}', address)\n",
    "\n",
    "print(f'sorting the only nums from address {add_dig}')"
   ]
  },
  {
   "cell_type": "code",
   "execution_count": 34,
   "id": "d4843581",
   "metadata": {},
   "outputs": [
    {
     "name": "stdout",
     "output_type": "stream",
     "text": [
      "sorting the only nums from address ['78', '11', '89', '4', '123', '567', '8', '560', '023', '678', '93']\n"
     ]
    }
   ],
   "source": [
    "## now i want nos with 1-3 digit only\n",
    "\n",
    "add_digs = re.findall(r'\\d{1,3}', address)\n",
    "\n",
    "print(f'sorting the only nums from address {add_digs}')"
   ]
  },
  {
   "cell_type": "code",
   "execution_count": 36,
   "id": "2290a0f3",
   "metadata": {},
   "outputs": [],
   "source": [
    "\n",
    "s = '''\n",
    "<html>\n",
    "<head>\n",
    "<title>Current IP Address Allocations\n",
    "</title>\n",
    "</head>\n",
    "<body>\n",
    "IP Address are 172.45.78.109\n",
    "LoopBack Address: 127.0.0.1\n",
    "Computer 1: 10.67.89.101\n",
    "Computer 2: 11.67.98.102\n",
    "Computer 3: 12.68.98.102\n",
    "</body>\n",
    "</html>\n",
    "'''"
   ]
  },
  {
   "cell_type": "code",
   "execution_count": 37,
   "id": "f19ea6c6",
   "metadata": {},
   "outputs": [
    {
     "name": "stdout",
     "output_type": "stream",
     "text": [
      "ip address are -: ['172.45.78.109', '127.0.0.1', '10.67.89.101', '11.67.98.102', '12.68.98.102']\n"
     ]
    }
   ],
   "source": [
    "ip_s=re.findall(r'\\d{1,3}.\\d{1,3}.\\d{1,3}.\\d{1,3}',s)\n",
    "\n",
    "print(f'ip address are -: {ip_s}')"
   ]
  },
  {
   "cell_type": "code",
   "execution_count": 38,
   "id": "84e8a770",
   "metadata": {},
   "outputs": [
    {
     "name": "stdout",
     "output_type": "stream",
     "text": [
      "ip address are -: ['10.67.89.101', '11.67.98.102']\n"
     ]
    }
   ],
   "source": [
    "### 10  0r 11\n",
    "ip_s1=re.findall(r\"1[0-1]\\.\\d{1,3}\\.\\d{1,3}\\.\\d{1,3}\", s)\n",
    "print(f'ip address are -: {ip_s1}')"
   ]
  },
  {
   "cell_type": "code",
   "execution_count": 39,
   "id": "5ba5d60e",
   "metadata": {},
   "outputs": [
    {
     "name": "stdout",
     "output_type": "stream",
     "text": [
      "ip address are -: ['10.67.89.101', '11.67.98.102']\n"
     ]
    }
   ],
   "source": [
    "### 10  0r 11\n",
    "ip_s1=re.findall(r\"1[0|1]\\.\\d{1,3}\\.\\d{1,3}\\.\\d{1,3}\", s)\n",
    "print(f'ip address are -: {ip_s1}')"
   ]
  },
  {
   "cell_type": "code",
   "execution_count": 40,
   "id": "94aeb9d1",
   "metadata": {},
   "outputs": [
    {
     "name": "stdout",
     "output_type": "stream",
     "text": [
      "ip address are -: ['10.67.89.101', '11.67.98.102']\n"
     ]
    }
   ],
   "source": [
    "### 10  0r 11\n",
    "ip_s1=re.findall(r\"1[01]\\.\\d{1,3}\\.\\d{1,3}\\.\\d{1,3}\", s)\n",
    "print(f'ip address are -: {ip_s1}')"
   ]
  },
  {
   "cell_type": "code",
   "execution_count": 41,
   "id": "35d6c9a9",
   "metadata": {},
   "outputs": [
    {
     "name": "stdout",
     "output_type": "stream",
     "text": [
      "ip address are -: ['10.67.89.101']\n"
     ]
    }
   ],
   "source": [
    "### 10  only\n",
    "ip_s0=re.findall(r\"10\\.\\d{1,3}\\.\\d{1,3}\\.\\d{1,3}\", s)\n",
    "print(f'ip address are -: {ip_s0}')"
   ]
  },
  {
   "cell_type": "code",
   "execution_count": 42,
   "id": "7ecbc357",
   "metadata": {},
   "outputs": [
    {
     "name": "stdout",
     "output_type": "stream",
     "text": [
      "Find all matches for format Month day\n",
      "gives Month Date format - ['June 24', 'August 9', 'Dec 12']\n",
      "gives Date format - ['24', '9', '12']\n",
      "gives tuple of Month & Date format - [('June', '24'), ('August', '9'), ('Dec', '12')]\n"
     ]
    }
   ],
   "source": [
    "print(\"Find all matches for format Month day\")\n",
    "\n",
    "matches = re.findall(r\"[A-Z][a-z]+\\s\\d{1,2}\", \"These are the match dates June 24, August 9, Dec 12\")\n",
    "print(f'gives Month Date format - {matches}')\n",
    "\n",
    "matches = re.findall(r\"[A-Z][a-z]+\\s(\\d{1,2})\", \"These are the match dates June 24, August 9, Dec 12\")\n",
    "print(f'gives Date format - {matches}')\n",
    "\n",
    "matches = re.findall(r\"([A-Z][a-z]+)\\s(\\d{1,2})\", \"These are the match dates June 24, August 9, Dec 12\")\n",
    "print(f'gives tuple of Month & Date format - {matches}')"
   ]
  },
  {
   "cell_type": "markdown",
   "id": "bc0a8bf8",
   "metadata": {},
   "source": [
    "\n"
   ]
  },
  {
   "cell_type": "code",
   "execution_count": 43,
   "id": "bc3bab47",
   "metadata": {},
   "outputs": [
    {
     "name": "stdout",
     "output_type": "stream",
     "text": [
      "['', '', '', '', '', '', '', '', '', '', '', '', '', '', '', '', '', '', '', '', '', '', '', '', '', '', '', '', '', '', '', '', '', '', '', '', '', '', '', '', '', '', '', '', '', '', '', '', '', '', '', '', '', '', '', '', '', '', '', '', '', '', '', '', '', '', '', '', '', '', '', '', '', '', '', '', '', '', '', '', '', '', '', '', '', '', '', '', '', '', '', '', '', '', '', '', '', '', '', '']\n"
     ]
    }
   ],
   "source": [
    "s = \"purple alice@google.com abcde helloab@abc.com ---@gmail.com 23@gmail.com my23@gmail.com _@gmail.com\"\n",
    "\n",
    "emails = re.findall(r\"\", s)\n",
    "print(emails)"
   ]
  },
  {
   "cell_type": "code",
   "execution_count": 44,
   "id": "ba9335aa",
   "metadata": {},
   "outputs": [
    {
     "name": "stdout",
     "output_type": "stream",
     "text": [
      "['alice@google.com', 'helloab@abc.com', '23@gmail.com', 'my23@gmail.com', '_@gmail.com']\n"
     ]
    }
   ],
   "source": [
    "s = \"purple alice@google.com abcde helloab@abc.com ---@gmail.com 23@gmail.com my23@gmail.com _@gmail.com\"\n",
    "\n",
    "emails = re.findall(r\"\\w+@\\w+\\.\\w+\", s)\n",
    "print(emails)"
   ]
  },
  {
   "cell_type": "code",
   "execution_count": 45,
   "id": "56100249",
   "metadata": {},
   "outputs": [
    {
     "name": "stdout",
     "output_type": "stream",
     "text": [
      "starts with alphabets only ['alice@google.com', 'helloab@abc.com']\n"
     ]
    }
   ],
   "source": [
    "s = \"purple alice@google.com abcde helloab@abc.com ---@gmail.com 23@gmail.com my23@gmail.com _@gmail.com\"\n",
    "\n",
    "emails = re.findall(r\"[A-Za-z]+@\\w+\\.\\w+\", s)\n",
    "print(f'starts with alphabets only {emails}')\n",
    "\n",
    "# \\w => A-Za-z0-9_"
   ]
  },
  {
   "cell_type": "code",
   "execution_count": 46,
   "id": "ef5ef695",
   "metadata": {},
   "outputs": [
    {
     "name": "stdout",
     "output_type": "stream",
     "text": [
      "starts with alphabets only ['23@gmail.com', '23@gmail.com']\n"
     ]
    }
   ],
   "source": [
    "s = \"purple alice@google.com abcde helloab@abc.com ---@gmail.com 23@gmail.com my23@gmail.com _@gmail.com\"\n",
    "\n",
    "emails = re.findall(r\"\\d+@\\w+\\.\\w+\", s)\n",
    "print(f'starts with alphabets only {emails}')\n",
    "\n",
    "# \\w => A-Za-z0-9_"
   ]
  },
  {
   "cell_type": "markdown",
   "id": "e3c8aea4",
   "metadata": {},
   "source": [
    "## Different Functions in ReGex"
   ]
  },
  {
   "cell_type": "markdown",
   "id": "17eb4f1f",
   "metadata": {},
   "source": [
    "### findall\n",
    "\n",
    "    * Returns list of all the matches"
   ]
  },
  {
   "cell_type": "code",
   "execution_count": 49,
   "id": "3d248a17",
   "metadata": {},
   "outputs": [
    {
     "data": {
      "text/plain": [
       "['e', 'e', 'e', 'e']"
      ]
     },
     "execution_count": 49,
     "metadata": {},
     "output_type": "execute_result"
    }
   ],
   "source": [
    "st = 'In a world where you can be anything, be kind'\n",
    "\n",
    "rslt = re.findall('e',st)\n",
    "rslt"
   ]
  },
  {
   "cell_type": "code",
   "execution_count": 50,
   "id": "4fd0e046",
   "metadata": {
    "scrolled": true
   },
   "outputs": [
    {
     "data": {
      "text/plain": [
       "[]"
      ]
     },
     "execution_count": 50,
     "metadata": {},
     "output_type": "execute_result"
    }
   ],
   "source": [
    "# empty list if pattern is not present\n",
    "rslt1 = re.findall('xyz',st)\n",
    "rslt1"
   ]
  },
  {
   "cell_type": "code",
   "execution_count": 51,
   "id": "bbbdbf1b",
   "metadata": {},
   "outputs": [
    {
     "data": {
      "text/plain": [
       "['be', 'be']"
      ]
     },
     "execution_count": 51,
     "metadata": {},
     "output_type": "execute_result"
    }
   ],
   "source": [
    "rslt2 = re.findall('be',st)\n",
    "rslt2"
   ]
  },
  {
   "cell_type": "code",
   "execution_count": 52,
   "id": "a9d4436c",
   "metadata": {},
   "outputs": [
    {
     "data": {
      "text/plain": [
       "['e', 'e', 'b', 'e', 'b', 'e']"
      ]
     },
     "execution_count": 52,
     "metadata": {},
     "output_type": "execute_result"
    }
   ],
   "source": [
    "# either b or e\n",
    "rslt21 = re.findall('[be]',st)\n",
    "rslt21"
   ]
  },
  {
   "cell_type": "code",
   "execution_count": 53,
   "id": "52fa8f81",
   "metadata": {},
   "outputs": [
    {
     "data": {
      "text/plain": [
       "['world wher']"
      ]
     },
     "execution_count": 53,
     "metadata": {},
     "output_type": "execute_result"
    }
   ],
   "source": [
    "rslt5 = re.findall('wo........',st)\n",
    "rslt5"
   ]
  },
  {
   "cell_type": "code",
   "execution_count": 54,
   "id": "4ada1e43",
   "metadata": {},
   "outputs": [
    {
     "data": {
      "text/plain": [
       "['world']"
      ]
     },
     "execution_count": 54,
     "metadata": {},
     "output_type": "execute_result"
    }
   ],
   "source": [
    "# 3rd element should be rld\n",
    "rslt6 = re.findall('..rld',st)\n",
    "rslt6"
   ]
  },
  {
   "cell_type": "code",
   "execution_count": 55,
   "id": "0037011e",
   "metadata": {},
   "outputs": [
    {
     "name": "stdout",
     "output_type": "stream",
     "text": [
      "['', '', '', '', '', 'w', '', '', '', '', '', 'w', '', '', '', '', '', '', '', '', '', '', '', '', '', '', '', '', '', '', '', '', '', '', '', '', '', '', '', '', '', '', '', '', '', '']\n"
     ]
    }
   ],
   "source": [
    "# zero or more occurance of w - if not returns null string\n",
    "rslt6 = re.findall('w*',st)\n",
    "print(rslt6)"
   ]
  },
  {
   "cell_type": "code",
   "execution_count": 56,
   "id": "b327fbf8",
   "metadata": {},
   "outputs": [
    {
     "name": "stdout",
     "output_type": "stream",
     "text": [
      "['', '', '', 'e', '', '', '', '', '', '', '', 'ee', '', '', '', '', '', '', '', '', 'e', '', '', '', '', '', '', '', 'ee', '', '']\n"
     ]
    }
   ],
   "source": [
    "#zero or more occurance of e - if not returns null string\n",
    "new_st = 'Friend in need is friend in deed'\n",
    "\n",
    "nr = re.findall('e*',new_st)\n",
    "print(nr)"
   ]
  },
  {
   "cell_type": "code",
   "execution_count": 57,
   "id": "93d6d4c7",
   "metadata": {},
   "outputs": [
    {
     "name": "stdout",
     "output_type": "stream",
     "text": [
      "['e', 'ee', 'e', 'ee']\n"
     ]
    }
   ],
   "source": [
    "#occurance of e followed by (zero or more occurance of 2nd e - if not returns null string)\n",
    "new_st = 'Friend in need is friend in deed'\n",
    "\n",
    "nr1 = re.findall('ee*',new_st)\n",
    "print(nr1)"
   ]
  },
  {
   "cell_type": "code",
   "execution_count": 58,
   "id": "1a290916",
   "metadata": {},
   "outputs": [
    {
     "name": "stdout",
     "output_type": "stream",
     "text": [
      "['ee', 'ee']\n"
     ]
    }
   ],
   "source": [
    "#occurance of e followed by (one or more occurance of 2nd e - if not returns null string)\n",
    "new_st = 'Friend in need is friend in deed'\n",
    "\n",
    "nr2 = re.findall('ee+',new_st)\n",
    "print(nr2)"
   ]
  },
  {
   "cell_type": "code",
   "execution_count": 59,
   "id": "b602f61d",
   "metadata": {},
   "outputs": [
    {
     "data": {
      "text/plain": [
       "['ee', 'ee']"
      ]
     },
     "execution_count": 59,
     "metadata": {},
     "output_type": "execute_result"
    }
   ],
   "source": [
    "# exact occurances - {}\n",
    "\n",
    "nr3 = re.findall('e{2}',new_st)\n",
    "nr3"
   ]
  },
  {
   "cell_type": "code",
   "execution_count": 61,
   "id": "161fb4b6",
   "metadata": {},
   "outputs": [
    {
     "data": {
      "text/plain": [
       "[]"
      ]
     },
     "execution_count": 61,
     "metadata": {},
     "output_type": "execute_result"
    }
   ],
   "source": [
    "# exact occurances - {}\n",
    "\n",
    "nr3 = re.findall('e{3}',new_st)\n",
    "nr3"
   ]
  },
  {
   "cell_type": "code",
   "execution_count": 62,
   "id": "cd6d0c5a",
   "metadata": {},
   "outputs": [
    {
     "data": {
      "text/plain": [
       "[' ', ' ', ' ', ' ', ' ', ' ']"
      ]
     },
     "execution_count": 62,
     "metadata": {},
     "output_type": "execute_result"
    }
   ],
   "source": [
    "# findall - spaces\n",
    "nr4 = re.findall('\\s',new_st)\n",
    "nr4"
   ]
  },
  {
   "cell_type": "code",
   "execution_count": 63,
   "id": "257134c1",
   "metadata": {},
   "outputs": [
    {
     "name": "stdout",
     "output_type": "stream",
     "text": [
      "['F', 'r', 'i', 'e', 'n', 'd', 'i', 'n', 'n', 'e', 'e', 'd', 'i', 's', 'f', 'r', 'i', 'e', 'n', 'd', 'i', 'n', 'd', 'e', 'e', 'd']\n"
     ]
    }
   ],
   "source": [
    "# findall - except spaces\n",
    "nr5 = re.findall('\\S',new_st)\n",
    "print(nr5)"
   ]
  },
  {
   "cell_type": "code",
   "execution_count": 64,
   "id": "a0bc6722",
   "metadata": {},
   "outputs": [
    {
     "name": "stdout",
     "output_type": "stream",
     "text": [
      "['2', '3', '4', '5', '3', '2', '1', '4']\n"
     ]
    }
   ],
   "source": [
    "# findall - digit\n",
    "new_st2 = 'Friend in need is 23 friend in 453214 deed'\n",
    "nr6 = re.findall('\\d',new_st2)\n",
    "print(nr6)"
   ]
  },
  {
   "cell_type": "code",
   "execution_count": 65,
   "id": "ecb3289b",
   "metadata": {},
   "outputs": [
    {
     "name": "stdout",
     "output_type": "stream",
     "text": [
      "['23', '453214']\n"
     ]
    }
   ],
   "source": [
    "# findall - digit 0ne or more\n",
    "new_st2 = 'Friend in need is 23 friend in 453214 deed'\n",
    "nr6 = re.findall('\\d+',new_st2)\n",
    "print(nr6)"
   ]
  },
  {
   "cell_type": "code",
   "execution_count": 66,
   "id": "ec099418",
   "metadata": {},
   "outputs": [
    {
     "name": "stdout",
     "output_type": "stream",
     "text": [
      "['F', 'r', 'i', 'e', 'n', 'd', ' ', 'i', 'n', ' ', 'n', 'e', 'e', 'd', ' ', 'i', 's', ' ', ' ', 'f', 'r', 'i', 'e', 'n', 'd', ' ', 'i', 'n', ' ', ' ', 'd', 'e', 'e', 'd']\n"
     ]
    }
   ],
   "source": [
    "# findall - except digit\n",
    "new_st2 = 'Friend in need is 23 friend in 453214 deed'\n",
    "nr6 = re.findall('\\D',new_st2)\n",
    "print(nr6)"
   ]
  },
  {
   "cell_type": "code",
   "execution_count": 67,
   "id": "564aa515",
   "metadata": {},
   "outputs": [
    {
     "name": "stdout",
     "output_type": "stream",
     "text": [
      "['F', 'r', 'i', 'e', 'n', 'd', 'i', 'n', 'n', 'e', 'e', 'd', 'i', 's', '2', '3', 'f', 'r', 'i', 'e', 'n', 'd', 'i', 'n', '4', '5', '3', '2', '1', '4', 'd', 'e', 'e', 'd']\n"
     ]
    }
   ],
   "source": [
    "# findall - words ( removes spaces)\n",
    "new_st2 = 'Friend in need is 23 friend in 453214 deed'\n",
    "nr6 = re.findall('\\w',new_st2)\n",
    "print(nr6)"
   ]
  },
  {
   "cell_type": "code",
   "execution_count": 68,
   "id": "90017495",
   "metadata": {},
   "outputs": [
    {
     "name": "stdout",
     "output_type": "stream",
     "text": [
      "[' ', ' ', ' ', ' ', ' ', ' ', ' ', ' ']\n"
     ]
    }
   ],
   "source": [
    "# findall - except alphanumeric\n",
    "new_st2 = 'Friend in need is 23 friend in 453214 deed'\n",
    "nr6 = re.findall('\\W',new_st2)\n",
    "print(nr6)"
   ]
  },
  {
   "cell_type": "code",
   "execution_count": 69,
   "id": "6d5478f0",
   "metadata": {},
   "outputs": [
    {
     "name": "stdout",
     "output_type": "stream",
     "text": [
      "['2', '3', '3', '2']\n"
     ]
    }
   ],
   "source": [
    "# findall - sets - [23] one digit\n",
    "new_st2 = 'Friend in need is 23 friend in 453214 deed'\n",
    "nr6 = re.findall('[23]',new_st2) # 2,3\n",
    "print(nr6)"
   ]
  },
  {
   "cell_type": "code",
   "execution_count": 70,
   "id": "6111b2a2",
   "metadata": {},
   "outputs": [
    {
     "name": "stdout",
     "output_type": "stream",
     "text": [
      "[]\n"
     ]
    }
   ],
   "source": [
    "# findall - sets - [23][45] - 2 digit\n",
    "new_st2 = 'Friend in need is 23 friend in 453214 deed'\n",
    "nr6 = re.findall(r'[23][45]',new_st2)\n",
    "print(nr6)"
   ]
  },
  {
   "cell_type": "code",
   "execution_count": 71,
   "id": "90e1581b",
   "metadata": {},
   "outputs": [
    {
     "name": "stdout",
     "output_type": "stream",
     "text": [
      "['3', '4', '5', '3', '4']\n"
     ]
    }
   ],
   "source": [
    "# findall - sets\n",
    "new_st2 = 'Friend in need is 23 friend in 453214 deed'\n",
    "nr6 = re.findall('[3-9]',new_st2)\n",
    "print(nr6)"
   ]
  },
  {
   "cell_type": "markdown",
   "id": "849380e0",
   "metadata": {},
   "source": [
    "### search"
   ]
  },
  {
   "cell_type": "code",
   "execution_count": 72,
   "id": "7efc4a09",
   "metadata": {},
   "outputs": [
    {
     "name": "stdout",
     "output_type": "stream",
     "text": [
      "type is object <re.Match object; span=(0, 2), match='In'>\n"
     ]
    }
   ],
   "source": [
    "st = 'In a world where you can be anything, be kind'\n",
    "\n",
    "match_object = re.search('In',st)\n",
    "print(f'type is object {match_object}')"
   ]
  },
  {
   "cell_type": "code",
   "execution_count": 73,
   "id": "1d8dc84c",
   "metadata": {},
   "outputs": [
    {
     "name": "stdout",
     "output_type": "stream",
     "text": [
      "type is object <re.Match object; span=(25, 27), match='be'>\n"
     ]
    }
   ],
   "source": [
    "match_object1 = re.search('be',st)\n",
    "print(f'type is object {match_object1}')"
   ]
  },
  {
   "cell_type": "code",
   "execution_count": 74,
   "id": "3188e0b5",
   "metadata": {},
   "outputs": [
    {
     "data": {
      "text/plain": [
       "0"
      ]
     },
     "execution_count": 74,
     "metadata": {},
     "output_type": "execute_result"
    }
   ],
   "source": [
    "match_object.start()"
   ]
  },
  {
   "cell_type": "code",
   "execution_count": 75,
   "id": "e6dc2a0a",
   "metadata": {},
   "outputs": [
    {
     "data": {
      "text/plain": [
       "25"
      ]
     },
     "execution_count": 75,
     "metadata": {},
     "output_type": "execute_result"
    }
   ],
   "source": [
    "match_object1.start()"
   ]
  },
  {
   "cell_type": "code",
   "execution_count": 76,
   "id": "c729a6c3",
   "metadata": {},
   "outputs": [
    {
     "data": {
      "text/plain": [
       "(0, 2)"
      ]
     },
     "execution_count": 76,
     "metadata": {},
     "output_type": "execute_result"
    }
   ],
   "source": [
    "match_object.span()"
   ]
  },
  {
   "cell_type": "code",
   "execution_count": 77,
   "id": "9ec4704d",
   "metadata": {},
   "outputs": [
    {
     "data": {
      "text/plain": [
       "(25, 27)"
      ]
     },
     "execution_count": 77,
     "metadata": {},
     "output_type": "execute_result"
    }
   ],
   "source": [
    "match_object1.span()"
   ]
  },
  {
   "cell_type": "code",
   "execution_count": 78,
   "id": "c5ee9573",
   "metadata": {},
   "outputs": [
    {
     "data": {
      "text/plain": [
       "<re.Match object; span=(11, 17), match='inform'>"
      ]
     },
     "execution_count": 78,
     "metadata": {},
     "output_type": "execute_result"
    }
   ],
   "source": [
    "source_str  = 'we need to inform him with the latest information'\n",
    "\n",
    "info = re.search('inform', source_str)\n",
    "info"
   ]
  },
  {
   "cell_type": "code",
   "execution_count": 79,
   "id": "b3c1d37d",
   "metadata": {},
   "outputs": [
    {
     "name": "stdout",
     "output_type": "stream",
     "text": [
      "inform is there\n"
     ]
    }
   ],
   "source": [
    "if re.search('inform', source_str):\n",
    "    print('inform is there')"
   ]
  },
  {
   "cell_type": "code",
   "execution_count": null,
   "id": "a641da5f",
   "metadata": {},
   "outputs": [],
   "source": [
    "randomstr = 'here is \\\\kane'\n",
    "\n",
    "print(randomstr)\n",
    "\n",
    "re.search(r'\\\\kane',randomstr)"
   ]
  },
  {
   "cell_type": "markdown",
   "id": "a675c30e",
   "metadata": {},
   "source": [
    "### split\n"
   ]
  },
  {
   "cell_type": "code",
   "execution_count": 80,
   "id": "83d1265a",
   "metadata": {},
   "outputs": [
    {
     "data": {
      "text/plain": [
       "['In', 'a', 'world', 'where', 'you', 'can', 'be', 'anything,', 'be', 'kind']"
      ]
     },
     "execution_count": 80,
     "metadata": {},
     "output_type": "execute_result"
    }
   ],
   "source": [
    "r = re.split(' ',st)\n",
    "r"
   ]
  },
  {
   "cell_type": "code",
   "execution_count": 81,
   "id": "ec3547ac",
   "metadata": {},
   "outputs": [
    {
     "data": {
      "text/plain": [
       "['In a world wh', 'r', ' you can b', ' anything, b', ' kind']"
      ]
     },
     "execution_count": 81,
     "metadata": {},
     "output_type": "execute_result"
    }
   ],
   "source": [
    "r1 = re.split('e',st)\n",
    "r1"
   ]
  },
  {
   "cell_type": "code",
   "execution_count": 82,
   "id": "d579ccf8",
   "metadata": {},
   "outputs": [
    {
     "data": {
      "text/plain": [
       "['In a world wh', 'r', ' you can be anything, be kind']"
      ]
     },
     "execution_count": 82,
     "metadata": {},
     "output_type": "execute_result"
    }
   ],
   "source": [
    "# max split\n",
    "r12 = re.split('e',st,2)\n",
    "r12 "
   ]
  },
  {
   "cell_type": "markdown",
   "id": "1ecd16b5",
   "metadata": {},
   "source": [
    "### sub - substitute\n",
    "\n",
    "    * sub('old pattern','new pattern',source_str)"
   ]
  },
  {
   "cell_type": "code",
   "execution_count": 83,
   "id": "c4d6b765",
   "metadata": {},
   "outputs": [
    {
     "data": {
      "text/plain": [
       "'In a world whErE you can bE anything, bE kind'"
      ]
     },
     "execution_count": 83,
     "metadata": {},
     "output_type": "execute_result"
    }
   ],
   "source": [
    "sb = re.sub('e','E',st)\n",
    "sb"
   ]
  },
  {
   "cell_type": "code",
   "execution_count": 84,
   "id": "e9832441",
   "metadata": {},
   "outputs": [
    {
     "data": {
      "text/plain": [
       "'In a world whErE you can be anything, be kind'"
      ]
     },
     "execution_count": 84,
     "metadata": {},
     "output_type": "execute_result"
    }
   ],
   "source": [
    "# max no of occurances to be substituted\n",
    "sb1 = re.sub('e','E',st,2)\n",
    "sb1"
   ]
  },
  {
   "cell_type": "markdown",
   "id": "2299ffeb",
   "metadata": {},
   "source": [
    "### Compile"
   ]
  },
  {
   "cell_type": "code",
   "execution_count": 85,
   "id": "9b200b49",
   "metadata": {},
   "outputs": [
    {
     "data": {
      "text/plain": [
       "re.compile(r'[r]at', re.UNICODE)"
      ]
     },
     "execution_count": 85,
     "metadata": {},
     "output_type": "execute_result"
    }
   ],
   "source": [
    "a = 'hat mat rat pat '\n",
    "\n",
    "reg = re.compile('[r]at')\n",
    "reg"
   ]
  },
  {
   "cell_type": "code",
   "execution_count": 86,
   "id": "0169543a",
   "metadata": {},
   "outputs": [
    {
     "data": {
      "text/plain": [
       "'hat mat FOOD pat '"
      ]
     },
     "execution_count": 86,
     "metadata": {},
     "output_type": "execute_result"
    }
   ],
   "source": [
    "rplce = reg.sub('FOOD',a)\n",
    "rplce"
   ]
  },
  {
   "cell_type": "code",
   "execution_count": 87,
   "id": "bdf23052",
   "metadata": {},
   "outputs": [
    {
     "data": {
      "text/plain": [
       "'hat mat FOOD pat '"
      ]
     },
     "execution_count": 87,
     "metadata": {},
     "output_type": "execute_result"
    }
   ],
   "source": [
    "#replacing \n",
    "\n",
    "rplc = re.sub('rat','FOOD',a)\n",
    "rplc"
   ]
  },
  {
   "cell_type": "markdown",
   "id": "099671b1",
   "metadata": {},
   "source": [
    "### working with white spaces"
   ]
  },
  {
   "cell_type": "code",
   "execution_count": 88,
   "id": "f348e481",
   "metadata": {},
   "outputs": [
    {
     "data": {
      "text/plain": [
       "'keep the blue flag\\nflying high\\nchelsa\\n'"
      ]
     },
     "execution_count": 88,
     "metadata": {},
     "output_type": "execute_result"
    }
   ],
   "source": [
    "chelsea = '''keep the blue flag\n",
    "flying high\n",
    "chelsa\n",
    "'''\n",
    "chelsea"
   ]
  },
  {
   "cell_type": "code",
   "execution_count": 89,
   "id": "723ceda1",
   "metadata": {},
   "outputs": [
    {
     "data": {
      "text/plain": [
       "'keep the blue flag flying high chelsa '"
      ]
     },
     "execution_count": 89,
     "metadata": {},
     "output_type": "execute_result"
    }
   ],
   "source": [
    "new_str = re.sub('\\n',' ',chelsea)\n",
    "new_str"
   ]
  },
  {
   "cell_type": "code",
   "execution_count": 90,
   "id": "a2785f55",
   "metadata": {},
   "outputs": [
    {
     "data": {
      "text/plain": [
       "'keep the blue flag flying high chelsa '"
      ]
     },
     "execution_count": 90,
     "metadata": {},
     "output_type": "execute_result"
    }
   ],
   "source": [
    "# other method using compile\n",
    "\n",
    "comp = re.compile('\\n')\n",
    "\n",
    "new =comp.sub(' ',chelsea)\n",
    "new"
   ]
  },
  {
   "cell_type": "markdown",
   "id": "5efa75c8",
   "metadata": {},
   "source": [
    "* \\b : backspace\n",
    "* \\f : formfeed\n",
    "* \\r: carriage return\n",
    "* \\t: tab\n",
    "* \\v:vertical\n"
   ]
  },
  {
   "cell_type": "code",
   "execution_count": 92,
   "id": "652af966",
   "metadata": {},
   "outputs": [
    {
     "data": {
      "text/plain": [
       "['444-122-1234', '123-122-7899']"
      ]
     },
     "execution_count": 92,
     "metadata": {},
     "output_type": "execute_result"
    }
   ],
   "source": [
    "phone_no = ''' \n",
    "444-122-1234\n",
    "123-122-78999\n",
    "111-123-23\n",
    "67-7890-2019\n",
    "'''\n",
    "# 3 digit @ start & middle, end -4 digit\n",
    "\n",
    "reg = re.findall(r'\\d{3}\\-\\d{3}\\-\\d{4}',phone_no)\n",
    "reg"
   ]
  },
  {
   "cell_type": "code",
   "execution_count": 93,
   "id": "1d1766a3",
   "metadata": {},
   "outputs": [
    {
     "name": "stdout",
     "output_type": "stream",
     "text": [
      "None\n",
      "Python\n",
      "['Python', 'pandas']\n"
     ]
    }
   ],
   "source": [
    "import re\n",
    "\n",
    "target_string = \"Jessa loves Python and pandas\"\n",
    "# Match six-letter word\n",
    "pattern = r\"\\w{6}\"\n",
    "\n",
    "# match() method\n",
    "result = re.match(pattern, target_string)\n",
    "print(result)\n",
    "\n",
    "\n",
    "# search() method\n",
    "result = re.search(pattern, target_string)\n",
    "print(result.group()) \n",
    "\n",
    "\n",
    "# findall() method\n",
    "result = re.findall(pattern, target_string)\n",
    "print(result) \n"
   ]
  },
  {
   "cell_type": "code",
   "execution_count": null,
   "id": "dd2d7d74",
   "metadata": {},
   "outputs": [],
   "source": [
    "# task 36\n",
    "# regex different examples\n",
    "\n",
    "# task 37\n",
    "'''\n",
    "html\n",
    "java script\n",
    "css\n",
    "anconda install jupyter \n",
    "'''"
   ]
  },
  {
   "cell_type": "code",
   "execution_count": null,
   "id": "10d79186",
   "metadata": {},
   "outputs": [],
   "source": []
  },
  {
   "cell_type": "code",
   "execution_count": null,
   "id": "e509d6f5",
   "metadata": {},
   "outputs": [],
   "source": []
  },
  {
   "cell_type": "code",
   "execution_count": null,
   "id": "8818c036",
   "metadata": {},
   "outputs": [],
   "source": []
  },
  {
   "cell_type": "code",
   "execution_count": null,
   "id": "8344926d",
   "metadata": {},
   "outputs": [],
   "source": []
  }
 ],
 "metadata": {
  "kernelspec": {
   "display_name": "Python 3 (ipykernel)",
   "language": "python",
   "name": "python3"
  },
  "language_info": {
   "codemirror_mode": {
    "name": "ipython",
    "version": 3
   },
   "file_extension": ".py",
   "mimetype": "text/x-python",
   "name": "python",
   "nbconvert_exporter": "python",
   "pygments_lexer": "ipython3",
   "version": "3.9.7"
  },
  "varInspector": {
   "cols": {
    "lenName": 16,
    "lenType": 16,
    "lenVar": 40
   },
   "kernels_config": {
    "python": {
     "delete_cmd_postfix": "",
     "delete_cmd_prefix": "del ",
     "library": "var_list.py",
     "varRefreshCmd": "print(var_dic_list())"
    },
    "r": {
     "delete_cmd_postfix": ") ",
     "delete_cmd_prefix": "rm(",
     "library": "var_list.r",
     "varRefreshCmd": "cat(var_dic_list()) "
    }
   },
   "types_to_exclude": [
    "module",
    "function",
    "builtin_function_or_method",
    "instance",
    "_Feature"
   ],
   "window_display": false
  }
 },
 "nbformat": 4,
 "nbformat_minor": 5
}
