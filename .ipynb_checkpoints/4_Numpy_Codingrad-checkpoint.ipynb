{
 "cells": [
  {
   "cell_type": "markdown",
   "metadata": {},
   "source": [
    "<img src='https://th.bing.com/th/id/OIP.0mtPy_tJkhR2cw2LACoGBwHaEK?pid=ImgDet&rs=1'>"
   ]
  },
  {
   "cell_type": "code",
   "execution_count": 1,
   "metadata": {
    "id": "aE_ZVV-8pUgT"
   },
   "outputs": [
    {
     "data": {
      "text/plain": [
       "'\\nPython List:\\n\\n1.Able to store different data types in the same list\\n2.Storing each item in random location in the memory\\n3.Good for the scenario where list can grow dynamically\\n4.Inbuilt data type.\\n5.It has more inbuilt functions\\n6.Appending will take less time in O(1) time\\n\\nNumPy Array:\\n\\n1.Can store only one data type in an array at any time\\n2.Storing each item is sequential which makes array more effective in processing.\\n3.Good for the scenario where the items are fixed size and same data time\\n4.Need to install external library NumPy\\n5.No extra functions, so it will not more memory store.\\n6.Appending elements will take more time in O(N) time\\n'"
      ]
     },
     "execution_count": 1,
     "metadata": {},
     "output_type": "execute_result"
    }
   ],
   "source": [
    "'''NumPy is a Python Library. It stands for 'Numerical Python'. \n",
    "It is a library consisting of multidimensional array objects and a collection of routines for processing of array.\n",
    "There are many contributors to this open source project.\n",
    "\n",
    "reading resource : https://www.sharpsightlabs.com/blog/numpy-axes-explained/\n",
    "                   https://opensourceoptions.com/blog/numpy-array-shapes-and-reshaping-arrays/#:~:text=6%207%5D%5D-,3D%20arrays,order%20layers%2C%20rows%2C%20columns.\n",
    "\n",
    "'''\n",
    "\n",
    "\n",
    " # Numpy vs List\n",
    "'''\n",
    "Python List:\n",
    "\n",
    "1.Able to store different data types in the same list\n",
    "2.Storing each item in random location in the memory\n",
    "3.Good for the scenario where list can grow dynamically\n",
    "4.Inbuilt data type.\n",
    "5.It has more inbuilt functions\n",
    "6.Appending will take less time in O(1) time\n",
    "\n",
    "NumPy Array:\n",
    "\n",
    "1.Can store only one data type in an array at any time\n",
    "2.Storing each item is sequential which makes array more effective in processing.\n",
    "3.Good for the scenario where the items are fixed size and same data time\n",
    "4.Need to install external library NumPy\n",
    "5.No extra functions, so it will not more memory store.\n",
    "6.Appending elements will take more time in O(N) time\n",
    "'''\n",
    " \n",
    "\n",
    "\n"
   ]
  },
  {
   "cell_type": "markdown",
   "metadata": {},
   "source": [
    "<img src=\"https://predictivehacks.com/wp-content/uploads/2020/08/numpy_arrays.png\">"
   ]
  },
  {
   "cell_type": "code",
   "execution_count": 2,
   "metadata": {
    "id": "j3Cw1-V_pUgU"
   },
   "outputs": [
    {
     "name": "stderr",
     "output_type": "stream",
     "text": [
      "WARNING: You are using pip version 21.2.4; however, version 22.0.3 is available.\n",
      "You should consider upgrading via the 'C:\\Users\\kiran\\AppData\\Local\\Programs\\Python\\Python310\\python.exe -m pip install --upgrade pip' command.\n"
     ]
    },
    {
     "name": "stdout",
     "output_type": "stream",
     "text": [
      "Requirement already satisfied: numpy in c:\\users\\kiran\\appdata\\local\\programs\\python\\python310\\lib\\site-packages (1.21.4)\n"
     ]
    }
   ],
   "source": [
    "\n",
    "#!pip install numpy\n",
    "\n",
    "#import numpy module with alias np\n",
    "import numpy as np"
   ]
  },
  {
   "cell_type": "code",
   "execution_count": 3,
   "metadata": {
    "id": "5uECrRrspUgV"
   },
   "outputs": [],
   "source": [
    "# Define a numpy array passing a list with  1,2 and 3 as elements in it\n",
    "a = np.array([1,2,3])"
   ]
  },
  {
   "cell_type": "code",
   "execution_count": 4,
   "metadata": {
    "colab": {
     "base_uri": "https://localhost:8080/"
    },
    "id": "vypw7Ws2pUgW",
    "outputId": "122a4717-2415-4ab6-e860-ca95ab607d75"
   },
   "outputs": [
    {
     "data": {
      "text/plain": [
       "array([1, 2, 3])"
      ]
     },
     "execution_count": 4,
     "metadata": {},
     "output_type": "execute_result"
    }
   ],
   "source": [
    "# print a\n",
    "a"
   ]
  },
  {
   "cell_type": "markdown",
   "metadata": {
    "id": "wBghhb57pUgX"
   },
   "source": [
    "## Dimensions in Arrays\n",
    "\n",
    "\n",
    "Numpy array can be of n dimentions\n",
    "\n",
    "Lets create arrays of different dimentions.\n",
    "\n",
    "a=A numpy array with one single integer 10\n",
    "\n",
    "b=A numpy array passing a list having a list= [1,2,3]\n",
    "\n",
    "c=A numpy array passing nested list having [[1, 2, 3], [4, 5, 6]] as elements\n",
    "\n",
    "d=A numpy array passing nested list having [[[1, 2, 3], [4, 5, 6]], [[1, 2, 3], [4, 5, 6]]] as elements\n",
    "\n",
    "<p style='text-align: right;'> 3 points </p>\n"
   ]
  },
  {
   "cell_type": "code",
   "execution_count": 5,
   "metadata": {
    "id": "RcoGDTf6pUgX"
   },
   "outputs": [],
   "source": [
    "#define a,b,c and d as instructed above\n",
    "\n",
    "a = np.array(10)\n",
    "b = np.array([1,2,3])\n",
    "c = np.array([[1, 2, 3], [4, 5, 6]])\n",
    "d = np.array([[[1, 2, 3], [4, 5, 6]], [[1, 2, 3], [4, 5, 6]]])"
   ]
  },
  {
   "cell_type": "markdown",
   "metadata": {
    "id": "y6ZAlfYfpUgX"
   },
   "source": [
    "Are you ready to check its dimension? Use ndim attribute on each variable to check its dimension"
   ]
  },
  {
   "cell_type": "code",
   "execution_count": 6,
   "metadata": {
    "colab": {
     "base_uri": "https://localhost:8080/"
    },
    "id": "UWeTZu8JpUgY",
    "outputId": "65049cb1-ce20-4ab1-a8fb-48675399d76d"
   },
   "outputs": [
    {
     "name": "stdout",
     "output_type": "stream",
     "text": [
      "a dimension: 0\n",
      "b dimension: 1\n",
      "c dimension: 2\n",
      "d dimension: 3\n"
     ]
    }
   ],
   "source": [
    "#print dimentions of a,b, c and d\n",
    "print('a dimension:', a.ndim)\n",
    "print('b dimension:', b.ndim)\n",
    "print('c dimension:', c.ndim)\n",
    "print('d dimension:', d.ndim)"
   ]
  },
  {
   "cell_type": "markdown",
   "metadata": {
    "id": "IATgFHFSpUgY"
   },
   "source": [
    "\n",
    "\n",
    "Lets print there shape as well. You can check shape using shape attribute\n",
    "\n"
   ]
  },
  {
   "cell_type": "code",
   "execution_count": 7,
   "metadata": {
    "colab": {
     "base_uri": "https://localhost:8080/"
    },
    "id": "1AK1WqGHpUgY",
    "outputId": "137190b7-9e8f-4e63-944a-a960e38b7bff",
    "scrolled": true
   },
   "outputs": [
    {
     "name": "stdout",
     "output_type": "stream",
     "text": [
      "10\n",
      "shape of a: ()\n",
      "[1 2 3]\n",
      "shape of b: (3,)\n",
      "[[1 2 3]\n",
      " [4 5 6]]\n",
      "shape of c: (2, 3)\n",
      "[[[1 2 3]\n",
      "  [4 5 6]]\n",
      "\n",
      " [[1 2 3]\n",
      "  [4 5 6]]]\n",
      "shape of d: (2, 2, 3)\n"
     ]
    }
   ],
   "source": [
    "# print shape of each a,b ,c and d\n",
    "print(a)\n",
    "print('shape of a:', a.shape)\n",
    "print(b)\n",
    "print('shape of b:', b.shape)\n",
    "print(c)\n",
    "print('shape of c:', c.shape)\n",
    "print(d)\n",
    "print('shape of d:', d.shape)"
   ]
  },
  {
   "cell_type": "markdown",
   "metadata": {
    "id": "PolNnru7pUgZ"
   },
   "source": [
    "Lets check data type passed in our array. To check data type you can use dtype attribute"
   ]
  },
  {
   "cell_type": "code",
   "execution_count": 8,
   "metadata": {
    "colab": {
     "base_uri": "https://localhost:8080/"
    },
    "id": "HRAV01pvpUgZ",
    "outputId": "a903ec7d-6fba-49ae-fbf8-93fe377cf45c"
   },
   "outputs": [
    {
     "name": "stdout",
     "output_type": "stream",
     "text": [
      "int32\n",
      "int32\n"
     ]
    }
   ],
   "source": [
    "# print data type of c and d\n",
    "print(c.dtype)\n",
    "print(d.dtype)"
   ]
  },
  {
   "cell_type": "markdown",
   "metadata": {
    "id": "B4QK_kbcpUgZ"
   },
   "source": [
    "Lets check the type of our variable. To check type of any numpy variable use type() function "
   ]
  },
  {
   "cell_type": "code",
   "execution_count": 9,
   "metadata": {
    "colab": {
     "base_uri": "https://localhost:8080/"
    },
    "id": "Cltd7mN3pUga",
    "outputId": "6c0f0f29-b2d4-4227-9e81-90d2093c9222"
   },
   "outputs": [
    {
     "name": "stdout",
     "output_type": "stream",
     "text": [
      "<class 'numpy.ndarray'>\n",
      "<class 'numpy.ndarray'>\n"
     ]
    }
   ],
   "source": [
    "#print type of a and b variable\n",
    "print(type(a))\n",
    "print(type(b))"
   ]
  },
  {
   "cell_type": "code",
   "execution_count": 10,
   "metadata": {
    "colab": {
     "base_uri": "https://localhost:8080/"
    },
    "id": "ojqYqZXRpUga",
    "outputId": "031521d3-c648-4236-be21-22c1c7c25f83"
   },
   "outputs": [
    {
     "data": {
      "text/plain": [
       "3"
      ]
     },
     "execution_count": 10,
     "metadata": {},
     "output_type": "execute_result"
    }
   ],
   "source": [
    "# Lets check length of array b, using len() function\n",
    "len(b)"
   ]
  },
  {
   "cell_type": "code",
   "execution_count": 13,
   "metadata": {
    "id": "J87Hqk7xpUgb"
   },
   "outputs": [
    {
     "name": "stdout",
     "output_type": "stream",
     "text": [
      "<class 'numpy.ndarray'>\n",
      "[40 50 60]\n"
     ]
    }
   ],
   "source": [
    "# Define l1,l2,l3 and l4 as stated above.\n",
    "l1 = [10,20,30]\n",
    "l2 = [40,50,60]\n",
    "l3 = np.array(l1)\n",
    "l4 = np.array(l2)\n",
    "print(type(l3))\n",
    "print(l4)"
   ]
  },
  {
   "cell_type": "markdown",
   "metadata": {
    "id": "rNYIuG9ppUgc"
   },
   "source": [
    "### Creating Numpy array\n",
    "\n",
    "\n",
    "There are multiple ways to create numpy array. Lets walk over them\n",
    "\n",
    "1. Using arrange() function <br>\n",
    "<p style='text-align: right;'> 8 points </p>\n"
   ]
  },
  {
   "cell_type": "code",
   "execution_count": 14,
   "metadata": {
    "colab": {
     "base_uri": "https://localhost:8080/"
    },
    "id": "pP3i9Y39pUgc",
    "outputId": "7e7effed-d93f-4d17-f9c9-4eb4a4f66e31"
   },
   "outputs": [
    {
     "data": {
      "text/plain": [
       "array([ 1,  2,  3,  4,  5,  6,  7,  8,  9, 10])"
      ]
     },
     "execution_count": 14,
     "metadata": {},
     "output_type": "execute_result"
    }
   ],
   "source": [
    "#Create a numpy array using arange with 1 and 11 as parameter in it\n",
    "np.arange(1, 11)"
   ]
  },
  {
   "cell_type": "code",
   "execution_count": 15,
   "metadata": {
    "colab": {
     "base_uri": "https://localhost:8080/"
    },
    "id": "SnMJC7QdpUgd",
    "outputId": "ce393adb-6674-49c2-d74d-e78462b4e155"
   },
   "outputs": [
    {
     "data": {
      "text/plain": [
       "array([1, 3, 5, 7, 9])"
      ]
     },
     "execution_count": 15,
     "metadata": {},
     "output_type": "execute_result"
    }
   ],
   "source": [
    "# Create an array using arange passing 1,11 and 2 as parameters\n",
    "np.arange(1,11,2)"
   ]
  },
  {
   "cell_type": "markdown",
   "metadata": {
    "id": "U8GxGR9SpUgd"
   },
   "source": [
    "\n",
    "\n",
    "2. Using eye Function <br>\n"
   ]
  },
  {
   "cell_type": "code",
   "execution_count": 16,
   "metadata": {
    "colab": {
     "base_uri": "https://localhost:8080/"
    },
    "id": "_X_EtKfwpUgd",
    "outputId": "122ff457-3632-4566-af4f-ca50534e2e1d"
   },
   "outputs": [
    {
     "data": {
      "text/plain": [
       "array([[1., 0., 0., 0., 0., 0., 0., 0., 0., 0.],\n",
       "       [0., 1., 0., 0., 0., 0., 0., 0., 0., 0.],\n",
       "       [0., 0., 1., 0., 0., 0., 0., 0., 0., 0.],\n",
       "       [0., 0., 0., 1., 0., 0., 0., 0., 0., 0.],\n",
       "       [0., 0., 0., 0., 1., 0., 0., 0., 0., 0.],\n",
       "       [0., 0., 0., 0., 0., 1., 0., 0., 0., 0.],\n",
       "       [0., 0., 0., 0., 0., 0., 1., 0., 0., 0.],\n",
       "       [0., 0., 0., 0., 0., 0., 0., 1., 0., 0.],\n",
       "       [0., 0., 0., 0., 0., 0., 0., 0., 1., 0.],\n",
       "       [0., 0., 0., 0., 0., 0., 0., 0., 0., 1.]])"
      ]
     },
     "execution_count": 16,
     "metadata": {},
     "output_type": "execute_result"
    }
   ],
   "source": [
    "# create numpy array using eye function with 3 as passed parameter\n",
    "np.eye(10, dtype = float)"
   ]
  },
  {
   "cell_type": "markdown",
   "metadata": {
    "id": "TJGLYyYdpUge"
   },
   "source": [
    "Wohoo! eye return a 2-D array with ones on the diagonal and zeros elsewhere.\n",
    "\n",
    "3. Using zero function<br>\n"
   ]
  },
  {
   "cell_type": "code",
   "execution_count": 17,
   "metadata": {
    "colab": {
     "base_uri": "https://localhost:8080/"
    },
    "id": "OetpPBkepUge",
    "outputId": "a37e1783-0978-4a0e-b4db-7597c101bc9c"
   },
   "outputs": [
    {
     "data": {
      "text/plain": [
       "array([[0, 0],\n",
       "       [0, 0],\n",
       "       [0, 0]])"
      ]
     },
     "execution_count": 17,
     "metadata": {},
     "output_type": "execute_result"
    }
   ],
   "source": [
    "#create a numpy array using zero function with (3,2) as passed parameter takes default float\n",
    "np.zeros((3, 2),dtype=int) # default float"
   ]
  },
  {
   "cell_type": "markdown",
   "metadata": {
    "id": "EkDfGHN0pUge"
   },
   "source": [
    "Zero function returns a new array of given shape and type, filled with zeros.\n",
    "\n",
    "4. Using ones Function <br>\n"
   ]
  },
  {
   "cell_type": "code",
   "execution_count": 18,
   "metadata": {
    "colab": {
     "base_uri": "https://localhost:8080/"
    },
    "id": "ez61wpaWpUgf",
    "outputId": "3c02f99d-d685-4052-f7ce-72fd5ff2850f"
   },
   "outputs": [
    {
     "data": {
      "text/plain": [
       "array([[1., 1.],\n",
       "       [1., 1.],\n",
       "       [1., 1.]])"
      ]
     },
     "execution_count": 18,
     "metadata": {},
     "output_type": "execute_result"
    }
   ],
   "source": [
    "#create a numpy array using ones function with (3,2) as passed parameter\n",
    "np.ones((3, 2))"
   ]
  },
  {
   "cell_type": "markdown",
   "metadata": {
    "id": "hNc3ACCbpUgf"
   },
   "source": [
    "You noticed! ones function returns a new array of given shape and type, filled with ones.\n",
    "\n",
    "5. Using full Function<br>\n"
   ]
  },
  {
   "cell_type": "code",
   "execution_count": 20,
   "metadata": {
    "colab": {
     "base_uri": "https://localhost:8080/"
    },
    "id": "V1LMVwYmpUgf",
    "outputId": "1d357d2c-58cd-460f-f84b-2452e08192f3"
   },
   "outputs": [
    {
     "data": {
      "text/plain": [
       "array([[10, 10],\n",
       "       [10, 10],\n",
       "       [10, 10]])"
      ]
     },
     "execution_count": 20,
     "metadata": {},
     "output_type": "execute_result"
    }
   ],
   "source": [
    "#create a numpy array using full function with (3,2) and 2 as passed parameter\n",
    "np.full((3, 2), 10)"
   ]
  },
  {
   "cell_type": "markdown",
   "metadata": {},
   "source": [
    "<img src=\"https://backtobazics.com/wp-content/uploads/2018/08/numpy-eye-full-methods.jpg\">"
   ]
  },
  {
   "cell_type": "markdown",
   "metadata": {
    "id": "1vxGNDfQpUgf"
   },
   "source": [
    "\n",
    "\n",
    "6. Using diag function<br>\n"
   ]
  },
  {
   "cell_type": "code",
   "execution_count": 21,
   "metadata": {
    "colab": {
     "base_uri": "https://localhost:8080/"
    },
    "id": "aNrXaN4kpUgf",
    "outputId": "6b4e5886-0e6e-449b-a3ca-7956ed429579"
   },
   "outputs": [
    {
     "data": {
      "text/plain": [
       "array([[1, 0, 0, 0, 0, 0, 0],\n",
       "       [0, 2, 0, 0, 0, 0, 0],\n",
       "       [0, 0, 3, 0, 0, 0, 0],\n",
       "       [0, 0, 0, 4, 0, 0, 0],\n",
       "       [0, 0, 0, 0, 5, 0, 0],\n",
       "       [0, 0, 0, 0, 0, 6, 0],\n",
       "       [0, 0, 0, 0, 0, 0, 7]])"
      ]
     },
     "execution_count": 21,
     "metadata": {},
     "output_type": "execute_result"
    }
   ],
   "source": [
    "#create a numpy array using diag function passing a list [1,2,3,4,5]\n",
    "x = [1,2,3,4,5,6,7]\n",
    "np.diag(x)"
   ]
  },
  {
   "cell_type": "markdown",
   "metadata": {},
   "source": [
    "<img src=\"https://i0.wp.com/datascienceparichay.com/wp-content/uploads/2021/08/numpy-linspace-illustration.png?w=900&ssl=1\">"
   ]
  },
  {
   "cell_type": "code",
   "execution_count": 25,
   "metadata": {
    "colab": {
     "base_uri": "https://localhost:8080/"
    },
    "id": "viA2NPv7pUgg",
    "outputId": "26e617eb-5d48-4923-c59f-0564f36e7c49"
   },
   "outputs": [
    {
     "data": {
      "text/plain": [
       "array([ 1.        ,  1.47368421,  1.94736842,  2.42105263,  2.89473684,\n",
       "        3.36842105,  3.84210526,  4.31578947,  4.78947368,  5.26315789,\n",
       "        5.73684211,  6.21052632,  6.68421053,  7.15789474,  7.63157895,\n",
       "        8.10526316,  8.57894737,  9.05263158,  9.52631579, 10.        ])"
      ]
     },
     "execution_count": 25,
     "metadata": {},
     "output_type": "execute_result"
    }
   ],
   "source": [
    "# Create an array with 100 values between 1 and 50 using linspace\n",
    "np.linspace(1, 10, num=20)"
   ]
  },
  {
   "cell_type": "markdown",
   "metadata": {
    "id": "hjWRs7FUpUgg"
   },
   "source": [
    "\n",
    "## Numpy Random numbers\n",
    "\n"
   ]
  },
  {
   "cell_type": "code",
   "execution_count": 50,
   "metadata": {
    "colab": {
     "base_uri": "https://localhost:8080/"
    },
    "id": "6ZWSB18_pUgh",
    "outputId": "088e22ec-2ea0-402a-d3c7-de9e2ff3f8ad"
   },
   "outputs": [
    {
     "data": {
      "text/plain": [
       "0.285070318176328"
      ]
     },
     "execution_count": 50,
     "metadata": {},
     "output_type": "execute_result"
    }
   ],
   "source": [
    "# Generate one random number between 0 and 1 using numpy's random.rand() function.\n",
    "\n",
    "np.random.random(1)[0]"
   ]
  },
  {
   "cell_type": "code",
   "execution_count": 48,
   "metadata": {
    "colab": {
     "base_uri": "https://localhost:8080/"
    },
    "id": "6cC53stWpUgh",
    "outputId": "abc43786-08ee-4535-ea07-11343083a7c6"
   },
   "outputs": [
    {
     "data": {
      "text/plain": [
       "33"
      ]
     },
     "execution_count": 48,
     "metadata": {},
     "output_type": "execute_result"
    }
   ],
   "source": [
    "# so let say I want a random value between 0 and 50\n",
    "n "
   ]
  },
  {
   "cell_type": "code",
   "execution_count": 52,
   "metadata": {
    "colab": {
     "base_uri": "https://localhost:8080/"
    },
    "id": "EzS84gqcpUgi",
    "outputId": "eac2b50b-c3ed-4eff-cf94-97e13651e82b"
   },
   "outputs": [
    {
     "data": {
      "text/plain": [
       "array([[0.66276745, 0.04536175, 1.35876235],\n",
       "       [0.18507201, 0.12973628, 1.23562478]])"
      ]
     },
     "execution_count": 52,
     "metadata": {},
     "output_type": "execute_result"
    }
   ],
   "source": [
    "#get an array as stated above\n",
    "np.random.randn(2,3)"
   ]
  },
  {
   "cell_type": "markdown",
   "metadata": {
    "id": "FQDAhMLqpUgi"
   },
   "source": [
    "\n",
    "\n",
    "## Numpy Reshape\n",
    "\n",
    "\n",
    "\n",
    "Reshaping means changing the shape of an array.\n",
    "The shape of an array is the number of elements in each dimension.\n",
    "By reshaping we can add or remove dimensions or change number of elements in each dimension.\n",
    "\n",
    "<p style='text-align: right;'> 6 points </p>\n"
   ]
  },
  {
   "cell_type": "markdown",
   "metadata": {},
   "source": [
    "<img src=\"https://backtobazics.com/wp-content/uploads/2018/08/numpy-reshape-examples.jpg\">"
   ]
  },
  {
   "cell_type": "code",
   "execution_count": 53,
   "metadata": {
    "id": "1Mkntnq8pUgj"
   },
   "outputs": [
    {
     "name": "stdout",
     "output_type": "stream",
     "text": [
      "[ 1  2  3  4  5  6  7  8  9 10 11 12 13 14 15 16]\n",
      "(16,)\n"
     ]
    }
   ],
   "source": [
    "# Using arange() to generate numpy array x with numbers between 1 to 16\n",
    "x = np.arange(1, 17)\n",
    "print(x)\n",
    "print(x.shape)"
   ]
  },
  {
   "cell_type": "code",
   "execution_count": 58,
   "metadata": {
    "colab": {
     "base_uri": "https://localhost:8080/"
    },
    "id": "IiFs0khIpUgk",
    "outputId": "ba78f034-5ebc-4e6b-ce09-148af3883756"
   },
   "outputs": [
    {
     "name": "stdout",
     "output_type": "stream",
     "text": [
      "[[ 1  2]\n",
      " [ 3  4]\n",
      " [ 5  6]\n",
      " [ 7  8]\n",
      " [ 9 10]\n",
      " [11 12]\n",
      " [13 14]\n",
      " [15 16]]\n",
      "(8, 2)\n"
     ]
    }
   ],
   "source": [
    "# Reshape x with 2 rows and 8 columns\n",
    "n=x.reshape((8, 2))\n",
    "print(n)\n",
    "print(n.shape)\n"
   ]
  },
  {
   "cell_type": "code",
   "execution_count": 60,
   "metadata": {},
   "outputs": [
    {
     "name": "stdout",
     "output_type": "stream",
     "text": [
      "(16,)\n",
      "[ 1  2  3  4  5  6  7  8  9 10 11 12 13 14 15 16]\n"
     ]
    }
   ],
   "source": [
    "# convert to old dimension\n",
    "v=n.ravel()\n",
    "print(v.shape)\n",
    "print(v)"
   ]
  },
  {
   "cell_type": "markdown",
   "metadata": {},
   "source": [
    "<img src=\"https://www.w3resource.com/w3r_images/numpy-manipulation-ravel-function-image-1.png\">"
   ]
  },
  {
   "cell_type": "code",
   "execution_count": 63,
   "metadata": {
    "colab": {
     "base_uri": "https://localhost:8080/"
    },
    "id": "QYTZwSSLpUgk",
    "outputId": "1846d041-89de-46c9-8d93-4d9af62c90ab"
   },
   "outputs": [
    {
     "name": "stdout",
     "output_type": "stream",
     "text": [
      "[ 1  2  3  4  5  6  7  8  9 10 11 12 13 14 15 16]\n"
     ]
    },
    {
     "data": {
      "text/plain": [
       "array([[ 1,  2,  3,  4,  5,  6,  7,  8],\n",
       "       [ 9, 10, 11, 12, 13, 14, 15, 16]])"
      ]
     },
     "execution_count": 63,
     "metadata": {},
     "output_type": "execute_result"
    }
   ],
   "source": [
    "# reshape x with dimension that will have 2 arrays that contains 4 arrays, each with 2 elements:\n",
    "print(x)\n",
    "x.reshape((2,8),order='F')"
   ]
  },
  {
   "cell_type": "markdown",
   "metadata": {},
   "source": [
    "<img src=\"https://www.w3resource.com/w3r_images/numpy-manipulation-ndarray-flatten-function-image-1.png\">"
   ]
  },
  {
   "cell_type": "markdown",
   "metadata": {
    "id": "BvP_nOjLpUgm"
   },
   "source": [
    "## NumPy Array Indexing\n",
    "\n",
    "\n",
    "Array indexing is the same as accessing an array element. You can access an array element by referring to its index number.\n",
    "\n",
    "The indexes in NumPy arrays start with 0, meaning that the first element has index 0, and the second has index 1 etc.\n",
    "\n",
    "<p style='text-align: right;'> 4 points </p>\n"
   ]
  },
  {
   "cell_type": "code",
   "execution_count": 64,
   "metadata": {
    "colab": {
     "base_uri": "https://localhost:8080/"
    },
    "id": "gwipaekHpUgm",
    "outputId": "5232a869-685d-49ca-b5c3-368b9de52995"
   },
   "outputs": [
    {
     "data": {
      "text/plain": [
       "array([ 1,  2,  3,  4,  5,  6,  7,  8,  9, 10, 11, 12, 13, 14, 15, 16])"
      ]
     },
     "execution_count": 64,
     "metadata": {},
     "output_type": "execute_result"
    }
   ],
   "source": [
    "# Flattening x convert array into one dimensional\n",
    "x.flatten()"
   ]
  },
  {
   "cell_type": "code",
   "execution_count": 65,
   "metadata": {
    "colab": {
     "base_uri": "https://localhost:8080/"
    },
    "id": "FGxHe9bgpUgm",
    "outputId": "7f0d1ca5-caf3-424e-d5b5-7e9f79112dad"
   },
   "outputs": [
    {
     "data": {
      "text/plain": [
       "array([ 2,  4,  6,  8, 10, 12, 14, 16])"
      ]
     },
     "execution_count": 65,
     "metadata": {},
     "output_type": "execute_result"
    }
   ],
   "source": [
    "# Create an array a with all even numbers between 1 to 17\n",
    "a = np.arange(2,17,2)\n",
    "\n",
    "# print a\n",
    "a"
   ]
  },
  {
   "cell_type": "code",
   "execution_count": 66,
   "metadata": {
    "colab": {
     "base_uri": "https://localhost:8080/"
    },
    "id": "SCi5EO46pUgm",
    "outputId": "331c5321-b8b3-4f7b-c7d7-b648522f0511"
   },
   "outputs": [
    {
     "data": {
      "text/plain": [
       "6"
      ]
     },
     "execution_count": 66,
     "metadata": {},
     "output_type": "execute_result"
    }
   ],
   "source": [
    "# Get third element in array a\n",
    "a[2]"
   ]
  },
  {
   "cell_type": "code",
   "execution_count": 67,
   "metadata": {
    "colab": {
     "base_uri": "https://localhost:8080/"
    },
    "id": "P7c9eCL-pUgm",
    "outputId": "75a4be12-dd22-4372-a20a-e4f7b8af2759"
   },
   "outputs": [
    {
     "data": {
      "text/plain": [
       "array([ 2,  6, 10, 14])"
      ]
     },
     "execution_count": 67,
     "metadata": {},
     "output_type": "execute_result"
    }
   ],
   "source": [
    "#Print 3rd, 5th, and 7th element in array a\n",
    "a[0:7:2]"
   ]
  },
  {
   "cell_type": "markdown",
   "metadata": {
    "id": "MdxjJvLEpUgn"
   },
   "source": [
    "Lets check the same for 2 D array"
   ]
  },
  {
   "cell_type": "code",
   "execution_count": 68,
   "metadata": {
    "colab": {
     "base_uri": "https://localhost:8080/"
    },
    "id": "R3xi9KcdpUgn",
    "outputId": "51068f0f-b9a0-487b-ed19-99e67feb9d53"
   },
   "outputs": [
    {
     "data": {
      "text/plain": [
       "array([[1, 2, 3],\n",
       "       [4, 5, 6],\n",
       "       [7, 8, 9]])"
      ]
     },
     "execution_count": 68,
     "metadata": {},
     "output_type": "execute_result"
    }
   ],
   "source": [
    "# Define an array 2-D a with [[1,2,3],[4,5,6],[7,8,9]] as its elements.\n",
    "a = np.array([[1,2,3],[4,5,6],[7,8,9]])\n",
    "a"
   ]
  },
  {
   "cell_type": "code",
   "execution_count": 69,
   "metadata": {
    "colab": {
     "base_uri": "https://localhost:8080/"
    },
    "id": "tSOlo9TlpUgn",
    "outputId": "bfb9878f-37d2-4557-bc33-68d9c7ebfe35"
   },
   "outputs": [
    {
     "data": {
      "text/plain": [
       "9"
      ]
     },
     "execution_count": 69,
     "metadata": {},
     "output_type": "execute_result"
    }
   ],
   "source": [
    "# print the 3rd element from the 3rd row of a\n",
    "a[2,2]"
   ]
  },
  {
   "cell_type": "markdown",
   "metadata": {},
   "source": [
    "<img src=\"https://qph.fs.quoracdn.net/main-qimg-82a0721a240faf8b7aa563492f4ccadf\">"
   ]
  },
  {
   "cell_type": "code",
   "execution_count": 70,
   "metadata": {
    "colab": {
     "base_uri": "https://localhost:8080/"
    },
    "id": "G3LFerQEpUgn",
    "outputId": "3da94ca0-56ce-4a06-9bf4-92c88133d492"
   },
   "outputs": [
    {
     "data": {
      "text/plain": [
       "array([[[ 1,  2,  3],\n",
       "        [ 4,  5,  6]],\n",
       "\n",
       "       [[ 7,  8,  9],\n",
       "        [10, 11, 12]]])"
      ]
     },
     "execution_count": 70,
     "metadata": {},
     "output_type": "execute_result"
    }
   ],
   "source": [
    "# Define an array b again with [[[1, 2, 3], [4, 5, 6]], [[7, 8, 9], [10, 11, 12]]] as its elements.\n",
    "b = np.array([[[1, 2, 3], [4, 5, 6]], [[7, 8, 9], [10, 11, 12]]])\n",
    "b"
   ]
  },
  {
   "cell_type": "code",
   "execution_count": 71,
   "metadata": {
    "colab": {
     "base_uri": "https://localhost:8080/"
    },
    "id": "_TlenkdYpUgo",
    "outputId": "9ca6f80a-5a1f-43d9-bc42-28d833cb7682"
   },
   "outputs": [
    {
     "data": {
      "text/plain": [
       "6"
      ]
     },
     "execution_count": 71,
     "metadata": {},
     "output_type": "execute_result"
    }
   ],
   "source": [
    "# Print 3rd element from 2nd list which is 1st list in nested list passed. Confusing right? 'a' have nested array.Understand the braket differences.\n",
    "b[0][1][2]"
   ]
  },
  {
   "cell_type": "markdown",
   "metadata": {
    "id": "lRwcKR5EpUgo"
   },
   "source": [
    "\n",
    "Have you heared about **negative indexing?**\n",
    "\n",
    "\n",
    "We can use negative indexing to access an array from the end."
   ]
  },
  {
   "cell_type": "code",
   "execution_count": 72,
   "metadata": {
    "colab": {
     "base_uri": "https://localhost:8080/"
    },
    "id": "4E5GRHdvpUgo",
    "outputId": "e02ad02f-630e-4dfd-92d6-23a3e3abc1b5"
   },
   "outputs": [
    {
     "data": {
      "text/plain": [
       "5"
      ]
     },
     "execution_count": 72,
     "metadata": {},
     "output_type": "execute_result"
    }
   ],
   "source": [
    "# Print the second last element from the 2nd dim using negative indexing\n",
    "b[-2][-1][-2]"
   ]
  },
  {
   "cell_type": "markdown",
   "metadata": {
    "id": "zHPXTcaGpUgo"
   },
   "source": [
    "Great job! \n",
    "So now you have learned how to to indexing on various dimentions of numpy array.\n",
    "\n",
    "## NumPy Array Slicing\n",
    "\n",
    "Slicing in python means taking elements from one given index to another given index.\n",
    "\n",
    "    1. We pass slice instead of index like this: [start:end].\n",
    "    2. We can also define the step, like this: [start:end:step].\n",
    "    3. If we don't pass start its considered 0\n",
    "    4. If we don't pass end its considered length of array in that dimension\n",
    "    5. If we don't pass step its considered 1\n",
    "    \n",
    "<p style='text-align: right;'> 5 points </p>\n",
    "\n",
    "    \n",
    "1. **Array slicing in 1-D array.**"
   ]
  },
  {
   "cell_type": "code",
   "execution_count": 73,
   "metadata": {
    "colab": {
     "base_uri": "https://localhost:8080/"
    },
    "id": "ZlW3oJERpUgo",
    "outputId": "6ac09311-df64-4941-9508-7d44fa2c74da"
   },
   "outputs": [
    {
     "data": {
      "text/plain": [
       "array([ 1,  2,  3,  4,  5,  6,  7,  8,  9, 10])"
      ]
     },
     "execution_count": 73,
     "metadata": {},
     "output_type": "execute_result"
    }
   ],
   "source": [
    "arr=np.arange(1,11)\n",
    "arr"
   ]
  },
  {
   "cell_type": "code",
   "execution_count": 74,
   "metadata": {
    "colab": {
     "base_uri": "https://localhost:8080/"
    },
    "id": "x7nAaX0PpUgo",
    "outputId": "4658dd20-f03d-4176-b9b4-b7d808e67ddf"
   },
   "outputs": [
    {
     "data": {
      "text/plain": [
       "array([1, 2, 3, 4, 5])"
      ]
     },
     "execution_count": 74,
     "metadata": {},
     "output_type": "execute_result"
    }
   ],
   "source": [
    "# Slice elements from 1st to 5th element from array arr:\n",
    "arr[0:5]\n"
   ]
  },
  {
   "cell_type": "code",
   "execution_count": 75,
   "metadata": {
    "colab": {
     "base_uri": "https://localhost:8080/"
    },
    "id": "9cI9SZ2zpUgp",
    "outputId": "ea66f988-830e-4ea4-c934-c41d8865a5f6"
   },
   "outputs": [
    {
     "data": {
      "text/plain": [
       "array([ 6,  7,  8,  9, 10])"
      ]
     },
     "execution_count": 75,
     "metadata": {},
     "output_type": "execute_result"
    }
   ],
   "source": [
    "# Slice elements from index 5 to the end of the array arr:\n",
    "arr[5:]"
   ]
  },
  {
   "cell_type": "code",
   "execution_count": 76,
   "metadata": {
    "colab": {
     "base_uri": "https://localhost:8080/"
    },
    "id": "9HdaV4VipUgp",
    "outputId": "f559a296-67e2-4898-89ff-41fac113f188"
   },
   "outputs": [
    {
     "data": {
      "text/plain": [
       "array([1, 2, 3, 4, 5])"
      ]
     },
     "execution_count": 76,
     "metadata": {},
     "output_type": "execute_result"
    }
   ],
   "source": [
    "# Slice elements from the beginning to index 5 (not included) in array arr:\n",
    "arr[0:5]"
   ]
  },
  {
   "cell_type": "code",
   "execution_count": 77,
   "metadata": {
    "colab": {
     "base_uri": "https://localhost:8080/"
    },
    "id": "5Es4pZqtpUgq",
    "outputId": "89af5bfa-2093-4825-806f-4603d62f7fdc"
   },
   "outputs": [
    {
     "data": {
      "text/plain": [
       "array([2, 4, 6])"
      ]
     },
     "execution_count": 77,
     "metadata": {},
     "output_type": "execute_result"
    }
   ],
   "source": [
    "# Print every other element from index 1 to index 7:\n",
    "arr[1:7:2]"
   ]
  },
  {
   "cell_type": "code",
   "execution_count": 78,
   "metadata": {
    "colab": {
     "base_uri": "https://localhost:8080/"
    },
    "id": "6eGz2psmpUgq",
    "outputId": "33418d1f-ce38-4dbe-f232-f6ebc4a373e8"
   },
   "outputs": [
    {
     "data": {
      "text/plain": [
       "array([1, 3, 5, 7, 9])"
      ]
     },
     "execution_count": 78,
     "metadata": {},
     "output_type": "execute_result"
    }
   ],
   "source": [
    "# Return every other element from the entire array arr:\n",
    "arr[0:10:2]"
   ]
  },
  {
   "cell_type": "code",
   "execution_count": 79,
   "metadata": {
    "colab": {
     "base_uri": "https://localhost:8080/"
    },
    "id": "Xc5hgEmppUgt",
    "outputId": "7695f1c8-7b3a-4249-d3a5-c574b6b6c953"
   },
   "outputs": [
    {
     "data": {
      "text/plain": [
       "array([[1, 2, 3],\n",
       "       [4, 5, 6],\n",
       "       [7, 8, 9]])"
      ]
     },
     "execution_count": 79,
     "metadata": {},
     "output_type": "execute_result"
    }
   ],
   "source": [
    "# Print array a\n",
    "a"
   ]
  },
  {
   "cell_type": "code",
   "execution_count": 80,
   "metadata": {
    "colab": {
     "base_uri": "https://localhost:8080/"
    },
    "id": "0bmWwEK4pUgt",
    "outputId": "309323a2-052c-4dd3-899e-af2325da34a5"
   },
   "outputs": [
    {
     "data": {
      "text/plain": [
       "array([8, 9])"
      ]
     },
     "execution_count": 80,
     "metadata": {},
     "output_type": "execute_result"
    }
   ],
   "source": [
    "# From the third element, slice elements from index 1 to index 5 (not included) from array 'a'\n",
    "a[2,1:]"
   ]
  },
  {
   "cell_type": "code",
   "execution_count": 81,
   "metadata": {
    "colab": {
     "base_uri": "https://localhost:8080/"
    },
    "id": "W_9L7ERopUgt",
    "outputId": "023dfeda-f98a-44da-c65e-2c3a300a4295"
   },
   "outputs": [
    {
     "data": {
      "text/plain": [
       "3"
      ]
     },
     "execution_count": 81,
     "metadata": {},
     "output_type": "execute_result"
    }
   ],
   "source": [
    "# In array 'a' print index 2 from all the rows :\n",
    "arr[2]"
   ]
  },
  {
   "cell_type": "code",
   "execution_count": 82,
   "metadata": {
    "colab": {
     "base_uri": "https://localhost:8080/"
    },
    "id": "oGjup_crpUgt",
    "outputId": "b4e5b5bf-07c5-40d4-c70e-41a1acac5fe7"
   },
   "outputs": [
    {
     "data": {
      "text/plain": [
       "array([[2, 3],\n",
       "       [5, 6],\n",
       "       [8, 9]])"
      ]
     },
     "execution_count": 82,
     "metadata": {},
     "output_type": "execute_result"
    }
   ],
   "source": [
    "# From all the elements in 'a', slice index 1 till end, this will return a 2-D array:\n",
    "a[0:,1:]"
   ]
  },
  {
   "cell_type": "markdown",
   "metadata": {
    "id": "FZSBKSVPpUgt"
   },
   "source": [
    "Hurray! You have learned Slicing in Numpy array. Now you know to access any numpy array."
   ]
  },
  {
   "cell_type": "markdown",
   "metadata": {
    "id": "uao-weGjpUgu"
   },
   "source": [
    "## Numpy copy vs view\n",
    "\n",
    "\n",
    "\n",
    "<p style='text-align: right;'> 7 points </p>\n"
   ]
  },
  {
   "cell_type": "code",
   "execution_count": 83,
   "metadata": {
    "id": "dEv5ubMxpUgu"
   },
   "outputs": [],
   "source": [
    "x1= np.arange(10)"
   ]
  },
  {
   "cell_type": "code",
   "execution_count": 84,
   "metadata": {
    "id": "Xk5usKzCpUgu"
   },
   "outputs": [],
   "source": [
    "# assign x2 = x1\n",
    "x2 = x1 # view"
   ]
  },
  {
   "cell_type": "code",
   "execution_count": 85,
   "metadata": {
    "colab": {
     "base_uri": "https://localhost:8080/"
    },
    "id": "ri7jAYUapUgu",
    "outputId": "6dbe9f8c-46c9-4d32-9fd5-14225f57c6fc"
   },
   "outputs": [
    {
     "name": "stdout",
     "output_type": "stream",
     "text": [
      "[0 1 2 3 4 5 6 7 8 9]\n",
      "[0 1 2 3 4 5 6 7 8 9]\n"
     ]
    }
   ],
   "source": [
    "#print x1 and x2\n",
    "print(x1)\n",
    "print(x2)"
   ]
  },
  {
   "cell_type": "markdown",
   "metadata": {
    "id": "lp4CGHPwpUgu"
   },
   "source": [
    "Ok now you have seen that both of them are same "
   ]
  },
  {
   "cell_type": "code",
   "execution_count": 86,
   "metadata": {
    "id": "tIU0PVJ9pUgv"
   },
   "outputs": [],
   "source": [
    "# change 1st element of x2 as 10\n",
    "x2[0] = 10"
   ]
  },
  {
   "cell_type": "code",
   "execution_count": 87,
   "metadata": {
    "colab": {
     "base_uri": "https://localhost:8080/"
    },
    "id": "hq_sAUKWpUgv",
    "outputId": "b7d25ebb-1ad2-4d90-b51e-6341c9f20eec"
   },
   "outputs": [
    {
     "name": "stdout",
     "output_type": "stream",
     "text": [
      "[10  1  2  3  4  5  6  7  8  9]\n",
      "[10  1  2  3  4  5  6  7  8  9]\n"
     ]
    }
   ],
   "source": [
    "#Again print x1 and x2\n",
    "print(x1)\n",
    "print(x2)"
   ]
  },
  {
   "cell_type": "markdown",
   "metadata": {
    "id": "ajn1h8yBpUgv"
   },
   "source": [
    "Wait a minute. Just check your above result on change of x2, x1 also got changed. Why?\n",
    "\n",
    "Lets check if both the variables shares memory. Use numpy shares_memory() function to check if both x1 and x2 shares a  memory.\n"
   ]
  },
  {
   "cell_type": "code",
   "execution_count": 91,
   "metadata": {
    "colab": {
     "base_uri": "https://localhost:8080/"
    },
    "id": "J2e6zSsrpUgv",
    "outputId": "14c2a9ec-7627-41f1-c20e-74154f8d45f2"
   },
   "outputs": [
    {
     "name": "stdout",
     "output_type": "stream",
     "text": [
      "False\n",
      "2320460171472\n",
      "2320460172048\n"
     ]
    }
   ],
   "source": [
    "# Check memory share between x1 and x2\n",
    "print(np.shares_memory(x1, x2))\n",
    "print(id(x1))\n",
    "print(id(x2))"
   ]
  },
  {
   "cell_type": "markdown",
   "metadata": {
    "id": "hJNRRe9tpUgv"
   },
   "source": [
    "Hey It's True they both share memory\n",
    "\n",
    "Shall we try **view()** function also likwise."
   ]
  },
  {
   "cell_type": "code",
   "execution_count": 92,
   "metadata": {
    "id": "rdr-nyLIpUgv"
   },
   "outputs": [],
   "source": [
    "# Create a view of x1 and store it in x3.\n",
    "x3 = x1.view()"
   ]
  },
  {
   "cell_type": "code",
   "execution_count": 93,
   "metadata": {
    "colab": {
     "base_uri": "https://localhost:8080/"
    },
    "id": "m1gcRuFOpUgw",
    "outputId": "b3c8d891-f1a7-403a-e6b4-3d0334874e1c"
   },
   "outputs": [
    {
     "data": {
      "text/plain": [
       "True"
      ]
     },
     "execution_count": 93,
     "metadata": {},
     "output_type": "execute_result"
    }
   ],
   "source": [
    "# Again check memory share between x1 and x3\n",
    "np.shares_memory(x1, x3)"
   ]
  },
  {
   "cell_type": "code",
   "execution_count": null,
   "metadata": {
    "id": "Gk6ZcPNppUgw"
   },
   "outputs": [],
   "source": [
    "#Change 1st element of x3=100\n",
    "x3[0] = 100"
   ]
  },
  {
   "cell_type": "code",
   "execution_count": null,
   "metadata": {
    "colab": {
     "base_uri": "https://localhost:8080/"
    },
    "id": "9VdTBJJSpUgw",
    "outputId": "c4eaf30b-f9e1-46f1-bcac-f031250a51d0"
   },
   "outputs": [],
   "source": [
    "#print x1 and x3 to check if changes reflected in both\n",
    "print(x1)\n",
    "print(x3)"
   ]
  },
  {
   "cell_type": "markdown",
   "metadata": {
    "id": "xx802J9QpUgw"
   },
   "source": [
    "Now its proved.\n",
    "\n",
    "Lets see how **Copy()** function works"
   ]
  },
  {
   "cell_type": "code",
   "execution_count": 99,
   "metadata": {
    "id": "cvurR9WYpUgw"
   },
   "outputs": [],
   "source": [
    "# Now create an array x4 which is copy of x1\n",
    "\n",
    "x4 = np.copy(x1)"
   ]
  },
  {
   "cell_type": "code",
   "execution_count": 100,
   "metadata": {
    "id": "gDsPJDNipUgx"
   },
   "outputs": [],
   "source": [
    "# Change the last element of x4 as 900\n",
    "x4[-1] = 900"
   ]
  },
  {
   "cell_type": "code",
   "execution_count": 101,
   "metadata": {
    "colab": {
     "base_uri": "https://localhost:8080/"
    },
    "id": "I1E_TA6vpUgx",
    "outputId": "f83d5364-3d54-4f66-cf93-ee6733844aba"
   },
   "outputs": [
    {
     "name": "stdout",
     "output_type": "stream",
     "text": [
      "[10  1  2  3  4  5  6  7  8  9]\n",
      "[ 10   1   2   3   4   5   6   7   8 900]\n"
     ]
    }
   ],
   "source": [
    "# print both x1 and x4 to check if changes reflected in both\n",
    "print(x1)\n",
    "print(x4)"
   ]
  },
  {
   "cell_type": "markdown",
   "metadata": {
    "id": "MNG2-xxnpUgx"
   },
   "source": [
    "Hey! such an intresting output. You noticed buddy! your original array didn't get changed on change of its copy ie. x4.\n",
    "\n"
   ]
  },
  {
   "cell_type": "code",
   "execution_count": 102,
   "metadata": {
    "colab": {
     "base_uri": "https://localhost:8080/"
    },
    "id": "K1CjRA5gpUgy",
    "outputId": "07dbcbae-3642-4f53-9315-e1ada03d5a69"
   },
   "outputs": [
    {
     "data": {
      "text/plain": [
       "False"
      ]
     },
     "execution_count": 102,
     "metadata": {},
     "output_type": "execute_result"
    }
   ],
   "source": [
    "#Check memory share between x1 and x4\n",
    "np.shares_memory(x1, x4)"
   ]
  },
  {
   "cell_type": "markdown",
   "metadata": {
    "id": "K3JOHmTXpUgy"
   },
   "source": [
    "You see! x1 and x4 don't share its memory. \n",
    "\n",
    "So with all our outputs we can takeaway few points:\n",
    "\n",
    "    1. The main difference between a copy and a view of an array is that the copy is a new array, and the view is just a view of the original array.\n",
    "\n",
    "    2. The copy owns the data and any changes made to the copy will not affect original array, and any changes made to the original array will not affect the copy.\n",
    "\n",
    "    3. The view does not own the data and any changes made to the view will affect the original array, and any changes made to the original array will affect the view."
   ]
  },
  {
   "cell_type": "markdown",
   "metadata": {
    "id": "NlKfYkYIpUgy"
   },
   "source": [
    "## More operations on Numpy\n",
    "\n",
    "**1. Applying conditions**\n",
    "\n",
    "\n",
    "\n",
    "<p style='text-align: right;'> 5 points </p>\n"
   ]
  },
  {
   "cell_type": "code",
   "execution_count": 94,
   "metadata": {
    "colab": {
     "base_uri": "https://localhost:8080/"
    },
    "id": "fOPtQB-spUgz",
    "outputId": "d293ca09-5606-4b60-b9b9-a8bfb6dbd6b8"
   },
   "outputs": [
    {
     "data": {
      "text/plain": [
       "array([[1, 2, 3],\n",
       "       [4, 5, 6],\n",
       "       [7, 8, 9]])"
      ]
     },
     "execution_count": 94,
     "metadata": {},
     "output_type": "execute_result"
    }
   ],
   "source": [
    "#print a\n",
    "a"
   ]
  },
  {
   "cell_type": "markdown",
   "metadata": {
    "id": "so-bjJGZpUgz"
   },
   "source": [
    "We are going to use 'a' array for all our array condition operations.\n"
   ]
  },
  {
   "cell_type": "code",
   "execution_count": 95,
   "metadata": {
    "colab": {
     "base_uri": "https://localhost:8080/"
    },
    "id": "4pY2GPH-pUgz",
    "outputId": "af8ef686-7ca9-4ec4-f0c4-e64051e9124e"
   },
   "outputs": [
    {
     "data": {
      "text/plain": [
       "array([[False, False, False],\n",
       "       [ True,  True,  True],\n",
       "       [ True,  True,  True]])"
      ]
     },
     "execution_count": 95,
     "metadata": {},
     "output_type": "execute_result"
    }
   ],
   "source": [
    "# Check if every element in array a greater than 3 or not Using '>' notation\n",
    "a > 3"
   ]
  },
  {
   "cell_type": "code",
   "execution_count": 96,
   "metadata": {
    "colab": {
     "base_uri": "https://localhost:8080/"
    },
    "id": "h7x4MsNwpUgz",
    "outputId": "a04b14fb-d2c9-44a4-83f5-d23ba0987c6f"
   },
   "outputs": [
    {
     "data": {
      "text/plain": [
       "array([4, 5, 6, 7, 8, 9])"
      ]
     },
     "execution_count": 96,
     "metadata": {},
     "output_type": "execute_result"
    }
   ],
   "source": [
    "# Get a list with all elements of array 'a' grater than 3\n",
    "a[a > 3]"
   ]
  },
  {
   "cell_type": "code",
   "execution_count": 97,
   "metadata": {
    "colab": {
     "base_uri": "https://localhost:8080/"
    },
    "id": "2nuF5q8fpUgz",
    "outputId": "9446732f-09ff-4aa1-b8cb-3d5495488967"
   },
   "outputs": [
    {
     "data": {
      "text/plain": [
       "array([4, 5])"
      ]
     },
     "execution_count": 97,
     "metadata": {},
     "output_type": "execute_result"
    }
   ],
   "source": [
    "# Get a list with all elements of array 'a' greater than 3 but less than 6\n",
    "a[(a > 3) & (a < 6)]"
   ]
  },
  {
   "cell_type": "code",
   "execution_count": 103,
   "metadata": {
    "colab": {
     "base_uri": "https://localhost:8080/"
    },
    "id": "os-GyNAipUg0",
    "outputId": "ee6f9666-3198-4f6f-adbe-5252497e6b2e"
   },
   "outputs": [
    {
     "data": {
      "text/plain": [
       "array([ True,  True,  True,  True,  True,  True,  True,  True,  True,\n",
       "       False])"
      ]
     },
     "execution_count": 103,
     "metadata": {},
     "output_type": "execute_result"
    }
   ],
   "source": [
    "# check if each elements in array 'x1' equals array 'x4' using '==' notation\n",
    "x1 == x4"
   ]
  },
  {
   "cell_type": "markdown",
   "metadata": {
    "id": "vqTpa41jpUg0"
   },
   "source": [
    "You can see in above output that the last element is not same in both x1 and x4\n",
    "\n",
    "Well done so far.\n",
    "\n",
    "Lets check how to transpose an array\n",
    "\n",
    "**2. Transposing array**\n"
   ]
  },
  {
   "cell_type": "code",
   "execution_count": 104,
   "metadata": {
    "colab": {
     "base_uri": "https://localhost:8080/"
    },
    "id": "mP0_dCUxpUg0",
    "outputId": "0d7802b6-96cf-45d8-8f77-fdfd394473c4"
   },
   "outputs": [
    {
     "name": "stdout",
     "output_type": "stream",
     "text": [
      "[[1 4 7]\n",
      " [2 5 8]\n",
      " [3 6 9]]\n",
      "-----------------\n",
      "[[1 2 3]\n",
      " [4 5 6]\n",
      " [7 8 9]]\n"
     ]
    }
   ],
   "source": [
    "# Print Transpose of array 'a'\n",
    "print(a.transpose())\n",
    "#print array 'a'\n",
    "print(\"-----------------\")\n",
    "print(a)"
   ]
  },
  {
   "cell_type": "markdown",
   "metadata": {
    "id": "WpOBWNoppUg0"
   },
   "source": [
    "In above output all the rows became columns by transposing "
   ]
  },
  {
   "cell_type": "markdown",
   "metadata": {
    "id": "8puKXbJwpUg0"
   },
   "source": [
    "**3. hstack vs vstack function**\n",
    "\n",
    "\n",
    "\n",
    "Stacking is same as concatenation, the only difference is that stacking is done along a new axis.\n",
    "\n",
    "NumPy provides a helper function: \n",
    "\n",
    "1. hstack() to stack along rows.\n",
    "2. vstack()  to stack along columns\n"
   ]
  },
  {
   "cell_type": "markdown",
   "metadata": {},
   "source": [
    "<img src=\"https://images4.pianshen.com/908/91/91b34f7c4a78a2e22d6b7ba0a7186584.png\">"
   ]
  },
  {
   "cell_type": "code",
   "execution_count": 105,
   "metadata": {
    "colab": {
     "base_uri": "https://localhost:8080/"
    },
    "id": "DOE-0gTwpUg1",
    "outputId": "fd0ccb74-f5d8-4ac1-95e6-e129936944c8"
   },
   "outputs": [
    {
     "name": "stdout",
     "output_type": "stream",
     "text": [
      "[10  1  2  3  4  5  6  7  8  9]\n",
      "[ 10   1   2   3   4   5   6   7   8 900]\n"
     ]
    },
    {
     "data": {
      "text/plain": [
       "array([[ 10,   1,   2,   3,   4,   5,   6,   7,   8,   9],\n",
       "       [ 10,   1,   2,   3,   4,   5,   6,   7,   8, 900]])"
      ]
     },
     "execution_count": 105,
     "metadata": {},
     "output_type": "execute_result"
    }
   ],
   "source": [
    "# stack x1 and x4 along columns.\n",
    "print(x1)\n",
    "print(x4)\n",
    "np.vstack((x1, x4))"
   ]
  },
  {
   "cell_type": "code",
   "execution_count": 106,
   "metadata": {
    "colab": {
     "base_uri": "https://localhost:8080/"
    },
    "id": "V2bNzfrkpUg1",
    "outputId": "1c54184e-8962-46d6-a19a-8debc71b5bd5"
   },
   "outputs": [
    {
     "data": {
      "text/plain": [
       "array([ 10,   1,   2,   3,   4,   5,   6,   7,   8,   9,  10,   1,   2,\n",
       "         3,   4,   5,   6,   7,   8, 900])"
      ]
     },
     "execution_count": 106,
     "metadata": {},
     "output_type": "execute_result"
    }
   ],
   "source": [
    "#stack x1 and x4 along rows\n",
    "np.hstack((x1, x4))"
   ]
  },
  {
   "cell_type": "markdown",
   "metadata": {
    "id": "qqhpdM01pUg2"
   },
   "source": [
    "## Adding, Insert and delete Numpy array\n",
    "\n",
    "\n",
    "<p style='text-align: right;'> 3 points </p>\n"
   ]
  },
  {
   "cell_type": "markdown",
   "metadata": {
    "id": "OPXhLAR-pUg2"
   },
   "source": [
    "Lets use insert() function which Inserts values into array before specified index value"
   ]
  },
  {
   "cell_type": "code",
   "execution_count": 107,
   "metadata": {
    "colab": {
     "base_uri": "https://localhost:8080/"
    },
    "id": "Ptc8f_BapUg2",
    "outputId": "afe43c29-e58f-4fbd-cab2-f42b064d235b"
   },
   "outputs": [
    {
     "name": "stdout",
     "output_type": "stream",
     "text": [
      "[10  1  2  3  4  5  6  7  8  9]\n",
      "[ 10   1   2   3   4   5   6   7   8 900]\n"
     ]
    },
    {
     "data": {
      "text/plain": [
       "array([ 10,   1,   2,   3,  10,   1,   2,   3,   4,   5,   6,   7,   8,\n",
       "       900,   4,   5,   6,   7,   8,   9])"
      ]
     },
     "execution_count": 107,
     "metadata": {},
     "output_type": "execute_result"
    }
   ],
   "source": [
    "# Inserts values into array x1 before index 4 with elements of x4\n",
    "print(x1)\n",
    "print(x4)\n",
    "np.insert(x1, 4, x4)"
   ]
  },
  {
   "cell_type": "markdown",
   "metadata": {
    "id": "REUCmBvzpUg2"
   },
   "source": [
    "You can see in above output we have inserted all the elements of x4 before index 4 in array x1."
   ]
  },
  {
   "cell_type": "code",
   "execution_count": 109,
   "metadata": {
    "colab": {
     "base_uri": "https://localhost:8080/"
    },
    "id": "xKRx-b0JpUg3",
    "outputId": "87e0f926-7f1e-470d-ae9e-6cefb2fec5c1"
   },
   "outputs": [
    {
     "name": "stdout",
     "output_type": "stream",
     "text": [
      "[10  1  2  3  4  5  6  7  8  9]\n"
     ]
    },
    {
     "data": {
      "text/plain": [
       "array([1, 2, 3, 4, 5, 6, 7, 8, 9])"
      ]
     },
     "execution_count": 109,
     "metadata": {},
     "output_type": "execute_result"
    }
   ],
   "source": [
    "# delete 2nd element from array x2\n",
    "print(x2)\n",
    "np.delete(x2, 0)"
   ]
  },
  {
   "cell_type": "markdown",
   "metadata": {
    "id": "d33aIsHmpUg3"
   },
   "source": [
    "Did you see? 2 value is deleted from x2 which was at index position 2"
   ]
  },
  {
   "cell_type": "markdown",
   "metadata": {
    "id": "qDKKKCjppUg3"
   },
   "source": [
    "## Mathmatical operations on Numpy array\n",
    "\n",
    "\n",
    "\n",
    "<p style='text-align: right;'> 8 points </p>\n"
   ]
  },
  {
   "cell_type": "code",
   "execution_count": 110,
   "metadata": {
    "id": "O7foeULTpUg3"
   },
   "outputs": [],
   "source": [
    "#defining a\n",
    "a= np.array([[1,2,3],[4,5,6],[7,8,9]])"
   ]
  },
  {
   "cell_type": "code",
   "execution_count": 111,
   "metadata": {
    "colab": {
     "base_uri": "https://localhost:8080/"
    },
    "id": "LMWlqmDypUg3",
    "outputId": "114c018a-c644-4387-ad3e-563287b261e9"
   },
   "outputs": [
    {
     "data": {
      "text/plain": [
       "array([[ 0.84147098,  0.90929743,  0.14112001],\n",
       "       [-0.7568025 , -0.95892427, -0.2794155 ],\n",
       "       [ 0.6569866 ,  0.98935825,  0.41211849]])"
      ]
     },
     "execution_count": 111,
     "metadata": {},
     "output_type": "execute_result"
    }
   ],
   "source": [
    "# print trigonometric sin value of each element of a\n",
    "np.sin(a)"
   ]
  },
  {
   "cell_type": "code",
   "execution_count": 113,
   "metadata": {},
   "outputs": [
    {
     "data": {
      "text/plain": [
       "array([[ 1.55740772, -2.18503986, -0.14254654],\n",
       "       [ 1.15782128, -3.38051501, -0.29100619],\n",
       "       [ 0.87144798, -6.79971146, -0.45231566]])"
      ]
     },
     "execution_count": 113,
     "metadata": {},
     "output_type": "execute_result"
    }
   ],
   "source": [
    "(np.sin(a))/(np.cos(a))"
   ]
  },
  {
   "cell_type": "code",
   "execution_count": 114,
   "metadata": {
    "colab": {
     "base_uri": "https://localhost:8080/"
    },
    "id": "9bSn6dZApUg3",
    "outputId": "5aaa12aa-bd27-44be-ab64-cf07d9d28306"
   },
   "outputs": [
    {
     "data": {
      "text/plain": [
       "array([[ 0.54030231, -0.41614684, -0.9899925 ],\n",
       "       [-0.65364362,  0.28366219,  0.96017029],\n",
       "       [ 0.75390225, -0.14550003, -0.91113026]])"
      ]
     },
     "execution_count": 114,
     "metadata": {},
     "output_type": "execute_result"
    }
   ],
   "source": [
    "# print trigonometric cos value of each element of a\n",
    "np.cos(a)"
   ]
  },
  {
   "cell_type": "code",
   "execution_count": 115,
   "metadata": {
    "colab": {
     "base_uri": "https://localhost:8080/"
    },
    "id": "E4bfMU4ipUg4",
    "outputId": "86b65224-1124-43f2-aefb-b5ce51244437"
   },
   "outputs": [
    {
     "data": {
      "text/plain": [
       "array([[2.71828183e+00, 7.38905610e+00, 2.00855369e+01],\n",
       "       [5.45981500e+01, 1.48413159e+02, 4.03428793e+02],\n",
       "       [1.09663316e+03, 2.98095799e+03, 8.10308393e+03]])"
      ]
     },
     "execution_count": 115,
     "metadata": {},
     "output_type": "execute_result"
    }
   ],
   "source": [
    "# Print exponential value of each elements of a\n",
    "np.exp(a)"
   ]
  },
  {
   "cell_type": "code",
   "execution_count": 116,
   "metadata": {
    "colab": {
     "base_uri": "https://localhost:8080/"
    },
    "id": "QRSyMRmzpUg4",
    "outputId": "7850336f-b4f4-4034-e5f6-2024834c4dea"
   },
   "outputs": [
    {
     "data": {
      "text/plain": [
       "45"
      ]
     },
     "execution_count": 116,
     "metadata": {},
     "output_type": "execute_result"
    }
   ],
   "source": [
    "# print total sum of elements of a\n",
    "np.sum(a)"
   ]
  },
  {
   "cell_type": "code",
   "execution_count": 117,
   "metadata": {
    "colab": {
     "base_uri": "https://localhost:8080/"
    },
    "id": "d1mFBqXVpUg4",
    "outputId": "b38b3123-ef8c-4010-822a-699dfefa82ec"
   },
   "outputs": [
    {
     "data": {
      "text/plain": [
       "array([ 6, 15, 24])"
      ]
     },
     "execution_count": 117,
     "metadata": {},
     "output_type": "execute_result"
    }
   ],
   "source": [
    "# Print sum in array a column wise\n",
    "np.sum(a, axis=1)"
   ]
  },
  {
   "cell_type": "code",
   "execution_count": 118,
   "metadata": {
    "colab": {
     "base_uri": "https://localhost:8080/"
    },
    "id": "4Cx--WYVpUg4",
    "outputId": "0cba05ff-ff93-49e7-c151-4b7d6a9ef233"
   },
   "outputs": [
    {
     "data": {
      "text/plain": [
       "array([12, 15, 18])"
      ]
     },
     "execution_count": 118,
     "metadata": {},
     "output_type": "execute_result"
    }
   ],
   "source": [
    "# Print sum in array a row wise\n",
    "np.sum(a, axis=0)"
   ]
  },
  {
   "cell_type": "markdown",
   "metadata": {},
   "source": [
    "<img src=\"https://th.bing.com/th/id/R.9230ced1c11e813fb069ddcac6566fdf?rik=C1ohvKa4zik%2b4w&riu=http%3a%2f%2flh5.ggpht.com%2f-1oz5Rz51kmo%2fU_xUcCLo4KI%2fAAAAAAAAB1g%2fyzk9KPcJ-NM%2fmeasures%25252520of%25252520central%25252520tendency_thumb%2525255B13%2525255D.gif%3fimgmax%3d800&ehk=%2bBH1cRV14pqT3nEfMTOkYImdkFZDlqR6fFJ1eM%2bKAcw%3d&risl=&pid=ImgRaw&r=0\">"
   ]
  },
  {
   "cell_type": "code",
   "execution_count": 119,
   "metadata": {
    "colab": {
     "base_uri": "https://localhost:8080/"
    },
    "id": "ZpttxTHppUg5",
    "outputId": "7f7e2bca-83b4-4e98-ad94-60aa4f094be3"
   },
   "outputs": [
    {
     "data": {
      "text/plain": [
       "5.0"
      ]
     },
     "execution_count": 119,
     "metadata": {},
     "output_type": "execute_result"
    }
   ],
   "source": [
    "# print median of array a\n",
    "np.median(a)"
   ]
  },
  {
   "cell_type": "code",
   "execution_count": 120,
   "metadata": {},
   "outputs": [
    {
     "data": {
      "text/plain": [
       "5.0"
      ]
     },
     "execution_count": 120,
     "metadata": {},
     "output_type": "execute_result"
    }
   ],
   "source": [
    "# print mean of array a\n",
    "np.mean(a)\n"
   ]
  },
  {
   "cell_type": "markdown",
   "metadata": {},
   "source": [
    "<img src=\"https://th.bing.com/th/id/R.a2c52d7062fa0de9d9df6032b7e0da75?rik=ptW1AfWGEGJi%2fQ&riu=http%3a%2f%2fimage.slideserve.com%2f274561%2fformula-for-standard-deviation-l.jpg&ehk=VClOXZLFkcG6HPqdc7rRMwWSMjYJ2T%2fGN1A8smQgV5Q%3d&risl=&pid=ImgRaw&r=0\">"
   ]
  },
  {
   "cell_type": "code",
   "execution_count": 121,
   "metadata": {
    "colab": {
     "base_uri": "https://localhost:8080/"
    },
    "id": "u-EKr6VMpUg5",
    "outputId": "c7de0368-1f99-4327-dc7e-caef003c035a"
   },
   "outputs": [
    {
     "data": {
      "text/plain": [
       "2.581988897471611"
      ]
     },
     "execution_count": 121,
     "metadata": {},
     "output_type": "execute_result"
    }
   ],
   "source": [
    "# print standard deviation of array a\n",
    "np.std(a)"
   ]
  },
  {
   "cell_type": "code",
   "execution_count": 122,
   "metadata": {
    "colab": {
     "base_uri": "https://localhost:8080/"
    },
    "id": "KDSwMgUQpUg7",
    "outputId": "318e014a-afda-4bc3-f888-3324b62b2b3b"
   },
   "outputs": [
    {
     "data": {
      "text/plain": [
       "9"
      ]
     },
     "execution_count": 122,
     "metadata": {},
     "output_type": "execute_result"
    }
   ],
   "source": [
    "#print largest element present in array a\n",
    "np.max(a)"
   ]
  },
  {
   "cell_type": "code",
   "execution_count": 123,
   "metadata": {
    "colab": {
     "base_uri": "https://localhost:8080/"
    },
    "id": "NcN6sQIVpUg8",
    "outputId": "bfc609d3-0b86-450d-cdb3-d671358cfddd"
   },
   "outputs": [
    {
     "data": {
      "text/plain": [
       "array([  1,   2,   3,   4,   5,   6,   7,   8,  10, 900])"
      ]
     },
     "execution_count": 123,
     "metadata": {},
     "output_type": "execute_result"
    }
   ],
   "source": [
    "# print sorted x4 array\n",
    "np.sort(x4)"
   ]
  },
  {
   "cell_type": "markdown",
   "metadata": {
    "id": "af81CRz-pUg8"
   },
   "source": [
    "## Searching Arrays\n",
    "\n",
    "You can search an array for a certain value, and return the indexes that get a match.\n",
    "\n",
    "To search an array, use the where() method.\n",
    "\n",
    "<p style='text-align: right;'> 4 points </p>\n"
   ]
  },
  {
   "cell_type": "code",
   "execution_count": 124,
   "metadata": {
    "colab": {
     "base_uri": "https://localhost:8080/"
    },
    "id": "RDWxyTF6pUg9",
    "outputId": "1507f208-93f5-4fd1-99c3-071f444e9385"
   },
   "outputs": [
    {
     "data": {
      "text/plain": [
       "(array([4], dtype=int64),)"
      ]
     },
     "execution_count": 124,
     "metadata": {},
     "output_type": "execute_result"
    }
   ],
   "source": [
    "# print the indexes where the value is 4 in array x1\n",
    "\n",
    "m=np.where(x1 == 4)\n",
    "m"
   ]
  },
  {
   "cell_type": "code",
   "execution_count": 125,
   "metadata": {
    "colab": {
     "base_uri": "https://localhost:8080/"
    },
    "id": "nPY8DKHTpUg9",
    "outputId": "44b00ca9-901e-4f2c-e926-651b454ad790"
   },
   "outputs": [
    {
     "data": {
      "text/plain": [
       "array([10,  1,  2,  3,  4,  5,  6,  7,  8,  9])"
      ]
     },
     "execution_count": 125,
     "metadata": {},
     "output_type": "execute_result"
    }
   ],
   "source": [
    "#print array x1\n",
    "x1"
   ]
  },
  {
   "cell_type": "code",
   "execution_count": 126,
   "metadata": {
    "colab": {
     "base_uri": "https://localhost:8080/"
    },
    "id": "atfURRUtpUg9",
    "outputId": "f7dc8414-92bb-4e86-ff59-a7153bfc90a0"
   },
   "outputs": [
    {
     "data": {
      "text/plain": [
       "(array([0, 2, 4, 6, 8], dtype=int64),)"
      ]
     },
     "execution_count": 126,
     "metadata": {},
     "output_type": "execute_result"
    }
   ],
   "source": [
    "# Print the indexes where the values are even in array x1\n",
    "np.where(x1%2 == 0)"
   ]
  },
  {
   "cell_type": "code",
   "execution_count": 127,
   "metadata": {
    "colab": {
     "base_uri": "https://localhost:8080/"
    },
    "id": "fPIY6xLlpUg9",
    "outputId": "364c0c00-c4e2-4834-9cb9-f1ac3b3822be"
   },
   "outputs": [
    {
     "data": {
      "text/plain": [
       "array([10,  0,  0,  0,  0,  0,  6,  7,  8,  9])"
      ]
     },
     "execution_count": 127,
     "metadata": {},
     "output_type": "execute_result"
    }
   ],
   "source": [
    "# Print x1 where x1 is greater than 5, also if number is less than 5 then replace it with 0\n",
    "\n",
    "np.where(x1>5, x1, 0)"
   ]
  },
  {
   "cell_type": "code",
   "execution_count": null,
   "metadata": {},
   "outputs": [],
   "source": []
  },
  {
   "cell_type": "code",
   "execution_count": null,
   "metadata": {},
   "outputs": [],
   "source": []
  },
  {
   "cell_type": "code",
   "execution_count": null,
   "metadata": {},
   "outputs": [],
   "source": []
  },
  {
   "cell_type": "code",
   "execution_count": null,
   "metadata": {},
   "outputs": [],
   "source": []
  },
  {
   "cell_type": "code",
   "execution_count": null,
   "metadata": {},
   "outputs": [],
   "source": []
  },
  {
   "cell_type": "code",
   "execution_count": null,
   "metadata": {},
   "outputs": [],
   "source": []
  }
 ],
 "metadata": {
  "colab": {
   "collapsed_sections": [],
   "include_colab_link": true,
   "name": "4_Numpy_CloudyML.ipynb",
   "provenance": []
  },
  "kernelspec": {
   "display_name": "Python 3 (ipykernel)",
   "language": "python",
   "name": "python3"
  },
  "language_info": {
   "codemirror_mode": {
    "name": "ipython",
    "version": 3
   },
   "file_extension": ".py",
   "mimetype": "text/x-python",
   "name": "python",
   "nbconvert_exporter": "python",
   "pygments_lexer": "ipython3",
   "version": "3.9.7"
  }
 },
 "nbformat": 4,
 "nbformat_minor": 1
}
