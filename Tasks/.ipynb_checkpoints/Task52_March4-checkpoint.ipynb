{
 "cells": [
  {
   "cell_type": "markdown",
   "id": "c3b39139",
   "metadata": {},
   "source": [
    "### Mean for data"
   ]
  },
  {
   "cell_type": "code",
   "execution_count": 18,
   "id": "27d15be8",
   "metadata": {},
   "outputs": [
    {
     "data": {
      "text/plain": [
       "3.142857142857143"
      ]
     },
     "execution_count": 18,
     "metadata": {},
     "output_type": "execute_result"
    }
   ],
   "source": [
    "def Mean(a):\n",
    "    sum=0\n",
    "    for i in a:\n",
    "        sum=sum+i\n",
    "        \n",
    "    return (sum/len(a))\n",
    "        \n",
    "    \n",
    "    \n",
    "\n",
    "lst=[2,3,4,5,5,1,2]\n",
    "m=Mean(lst)\n",
    "m\n"
   ]
  },
  {
   "cell_type": "markdown",
   "id": "f3e04157",
   "metadata": {},
   "source": [
    "###  Median of Data"
   ]
  },
  {
   "cell_type": "code",
   "execution_count": 1,
   "id": "0a91f0dc",
   "metadata": {},
   "outputs": [
    {
     "name": "stdout",
     "output_type": "stream",
     "text": [
      "4.5\n"
     ]
    }
   ],
   "source": [
    "import math\n",
    "\n",
    "def Median(x):\n",
    "    l=len(x)\n",
    "    if ((l%2)!=0):\n",
    "              a=math.floor(l/2)\n",
    "              print(x[a])\n",
    "    \n",
    "    else:\n",
    "        a=int(l/2)\n",
    "        print((x[a]+x[a-1])/2)\n",
    "        \n",
    "              \n",
    "\n",
    "\n",
    "\n",
    "lst=[2,3,4,6,7,8,9,2,3,5]\n",
    "m=sorted(lst)\n",
    "Median(m)"
   ]
  },
  {
   "cell_type": "markdown",
   "id": "6235591b",
   "metadata": {},
   "source": [
    "### Mode Of Data\n"
   ]
  },
  {
   "cell_type": "code",
   "execution_count": 35,
   "id": "a6f7956e",
   "metadata": {},
   "outputs": [
    {
     "name": "stdout",
     "output_type": "stream",
     "text": [
      "3\n"
     ]
    }
   ],
   "source": [
    "def Mode(x):\n",
    "    l=[]\n",
    "    for i in x:\n",
    "        l.append(x.count(i))\n",
    "    \n",
    "   \n",
    "    maximum=max(l)\n",
    "    ma=l.index(maximum)\n",
    "    print(x[ma])\n",
    "        \n",
    "    \n",
    "    \n",
    "    \n",
    "lst=[2,3,3,4,5,6,7,8]\n",
    "\n",
    "Mode(lst)"
   ]
  },
  {
   "cell_type": "markdown",
   "id": "2d690180",
   "metadata": {},
   "source": [
    "### Standard Deviation"
   ]
  },
  {
   "cell_type": "code",
   "execution_count": 4,
   "id": "660a7666",
   "metadata": {},
   "outputs": [
    {
     "data": {
      "text/plain": [
       "2.0"
      ]
     },
     "execution_count": 4,
     "metadata": {},
     "output_type": "execute_result"
    }
   ],
   "source": [
    "import numpy as np\n",
    "def SD(a):\n",
    "    return a.std()\n",
    "\n",
    "\n",
    "lst=[1,2,3,4,5,6,7]\n",
    "a=np.array(lst)\n",
    "SD(a)"
   ]
  },
  {
   "cell_type": "markdown",
   "id": "085539b0",
   "metadata": {},
   "source": [
    "### Variance"
   ]
  },
  {
   "cell_type": "code",
   "execution_count": null,
   "id": "d124a872",
   "metadata": {},
   "outputs": [],
   "source": []
  }
 ],
 "metadata": {
  "kernelspec": {
   "display_name": "Python 3 (ipykernel)",
   "language": "python",
   "name": "python3"
  },
  "language_info": {
   "codemirror_mode": {
    "name": "ipython",
    "version": 3
   },
   "file_extension": ".py",
   "mimetype": "text/x-python",
   "name": "python",
   "nbconvert_exporter": "python",
   "pygments_lexer": "ipython3",
   "version": "3.9.7"
  }
 },
 "nbformat": 4,
 "nbformat_minor": 5
}
